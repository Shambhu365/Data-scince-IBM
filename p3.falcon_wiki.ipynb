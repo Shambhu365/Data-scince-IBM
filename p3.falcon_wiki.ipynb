{
 "cells": [
  {
   "cell_type": "markdown",
   "id": "28d17422",
   "metadata": {},
   "source": [
    "# Stage 1, Define A problem;\n",
    "  -  Study the Falcon 9 lauches and predict the failure/success"
   ]
  },
  {
   "cell_type": "code",
   "execution_count": 18,
   "id": "4045f2e3",
   "metadata": {},
   "outputs": [
    {
     "name": "stdout",
     "output_type": "stream",
     "text": [
      "Collecting selenium\n",
      "  Downloading selenium-4.35.0-py3-none-any.whl.metadata (7.4 kB)\n",
      "Requirement already satisfied: beautifulsoup4 in /home/ucfbsbh/mambaforge/envs/matinfo/lib/python3.12/site-packages (4.12.3)\n",
      "Requirement already satisfied: pandas in /home/ucfbsbh/mambaforge/envs/matinfo/lib/python3.12/site-packages (2.2.3)\n",
      "Requirement already satisfied: requests in /home/ucfbsbh/mambaforge/envs/matinfo/lib/python3.12/site-packages (2.32.3)\n",
      "Collecting urllib3<3.0,>=2.5.0 (from urllib3[socks]<3.0,>=2.5.0->selenium)\n",
      "  Using cached urllib3-2.5.0-py3-none-any.whl.metadata (6.5 kB)\n",
      "Collecting trio~=0.30.0 (from selenium)\n",
      "  Downloading trio-0.30.0-py3-none-any.whl.metadata (8.5 kB)\n",
      "Collecting trio-websocket~=0.12.2 (from selenium)\n",
      "  Downloading trio_websocket-0.12.2-py3-none-any.whl.metadata (5.1 kB)\n",
      "Collecting certifi>=2025.6.15 (from selenium)\n",
      "  Downloading certifi-2025.8.3-py3-none-any.whl.metadata (2.4 kB)\n",
      "Collecting typing_extensions~=4.14.0 (from selenium)\n",
      "  Downloading typing_extensions-4.14.1-py3-none-any.whl.metadata (3.0 kB)\n",
      "Requirement already satisfied: websocket-client~=1.8.0 in /home/ucfbsbh/mambaforge/envs/matinfo/lib/python3.12/site-packages (from selenium) (1.8.0)\n",
      "Requirement already satisfied: soupsieve>1.2 in /home/ucfbsbh/mambaforge/envs/matinfo/lib/python3.12/site-packages (from beautifulsoup4) (2.6)\n",
      "Requirement already satisfied: numpy>=1.26.0 in /home/ucfbsbh/mambaforge/envs/matinfo/lib/python3.12/site-packages (from pandas) (1.26.4)\n",
      "Requirement already satisfied: python-dateutil>=2.8.2 in /home/ucfbsbh/mambaforge/envs/matinfo/lib/python3.12/site-packages (from pandas) (2.9.0.post0)\n",
      "Requirement already satisfied: pytz>=2020.1 in /home/ucfbsbh/mambaforge/envs/matinfo/lib/python3.12/site-packages (from pandas) (2024.1)\n",
      "Requirement already satisfied: tzdata>=2022.7 in /home/ucfbsbh/mambaforge/envs/matinfo/lib/python3.12/site-packages (from pandas) (2024.2)\n",
      "Requirement already satisfied: charset_normalizer<4,>=2 in /home/ucfbsbh/mambaforge/envs/matinfo/lib/python3.12/site-packages (from requests) (3.4.0)\n",
      "Requirement already satisfied: idna<4,>=2.5 in /home/ucfbsbh/mambaforge/envs/matinfo/lib/python3.12/site-packages (from requests) (3.10)\n",
      "Requirement already satisfied: six>=1.5 in /home/ucfbsbh/mambaforge/envs/matinfo/lib/python3.12/site-packages (from python-dateutil>=2.8.2->pandas) (1.17.0)\n",
      "Requirement already satisfied: attrs>=23.2.0 in /home/ucfbsbh/mambaforge/envs/matinfo/lib/python3.12/site-packages (from trio~=0.30.0->selenium) (24.2.0)\n",
      "Collecting sortedcontainers (from trio~=0.30.0->selenium)\n",
      "  Downloading sortedcontainers-2.4.0-py2.py3-none-any.whl.metadata (10 kB)\n",
      "Collecting outcome (from trio~=0.30.0->selenium)\n",
      "  Downloading outcome-1.3.0.post0-py2.py3-none-any.whl.metadata (2.6 kB)\n",
      "Requirement already satisfied: sniffio>=1.3.0 in /home/ucfbsbh/mambaforge/envs/matinfo/lib/python3.12/site-packages (from trio~=0.30.0->selenium) (1.3.1)\n",
      "Collecting wsproto>=0.14 (from trio-websocket~=0.12.2->selenium)\n",
      "  Downloading wsproto-1.2.0-py3-none-any.whl.metadata (5.6 kB)\n",
      "Requirement already satisfied: pysocks!=1.5.7,<2.0,>=1.5.6 in /home/ucfbsbh/mambaforge/envs/matinfo/lib/python3.12/site-packages (from urllib3[socks]<3.0,>=2.5.0->selenium) (1.7.1)\n",
      "Requirement already satisfied: h11<1,>=0.9.0 in /home/ucfbsbh/mambaforge/envs/matinfo/lib/python3.12/site-packages (from wsproto>=0.14->trio-websocket~=0.12.2->selenium) (0.14.0)\n",
      "Downloading selenium-4.35.0-py3-none-any.whl (9.6 MB)\n",
      "\u001b[2K   \u001b[90m━━━━━━━━━━━━━━━━━━━━━━━━━━━━━━━━━━━━━━━━\u001b[0m \u001b[32m9.6/9.6 MB\u001b[0m \u001b[31m71.5 MB/s\u001b[0m eta \u001b[36m0:00:00\u001b[0m\n",
      "\u001b[?25hDownloading certifi-2025.8.3-py3-none-any.whl (161 kB)\n",
      "Downloading trio-0.30.0-py3-none-any.whl (499 kB)\n",
      "Downloading trio_websocket-0.12.2-py3-none-any.whl (21 kB)\n",
      "Downloading typing_extensions-4.14.1-py3-none-any.whl (43 kB)\n",
      "Using cached urllib3-2.5.0-py3-none-any.whl (129 kB)\n",
      "Downloading outcome-1.3.0.post0-py2.py3-none-any.whl (10 kB)\n",
      "Downloading wsproto-1.2.0-py3-none-any.whl (24 kB)\n",
      "Downloading sortedcontainers-2.4.0-py2.py3-none-any.whl (29 kB)\n",
      "Installing collected packages: sortedcontainers, wsproto, urllib3, typing_extensions, outcome, certifi, trio, trio-websocket, selenium\n",
      "  Attempting uninstall: urllib3\n",
      "    Found existing installation: urllib3 2.2.3\n",
      "    Uninstalling urllib3-2.2.3:\n",
      "      Successfully uninstalled urllib3-2.2.3\n",
      "  Attempting uninstall: typing_extensions\n",
      "    Found existing installation: typing_extensions 4.12.2\n",
      "    Uninstalling typing_extensions-4.12.2:\n",
      "      Successfully uninstalled typing_extensions-4.12.2\n",
      "  Attempting uninstall: certifi\n",
      "    Found existing installation: certifi 2025.1.31\n",
      "    Uninstalling certifi-2025.1.31:\n",
      "      Successfully uninstalled certifi-2025.1.31\n",
      "\u001b[31mERROR: pip's dependency resolver does not currently take into account all the packages that are installed. This behaviour is the source of the following dependency conflicts.\n",
      "mendeleev 0.19.0 requires SQLAlchemy>=1.4.0, but you have sqlalchemy 1.3.24 which is incompatible.\n",
      "pyiron-atomistics 0.6.18 requires scikit-learn<=1.6.0,>=1.2.1, but you have scikit-learn 1.7.1 which is incompatible.\u001b[0m\u001b[31m\n",
      "\u001b[0mSuccessfully installed certifi-2025.8.3 outcome-1.3.0.post0 selenium-4.35.0 sortedcontainers-2.4.0 trio-0.30.0 trio-websocket-0.12.2 typing_extensions-4.13.0 urllib3-2.5.0 wsproto-1.2.0\n"
     ]
    }
   ],
   "source": [
    "!pip install selenium beautifulsoup4 pandas requests"
   ]
  },
  {
   "cell_type": "code",
   "execution_count": 20,
   "id": "7c350c77",
   "metadata": {},
   "outputs": [
    {
     "name": "stdout",
     "output_type": "stream",
     "text": [
      "Collecting webdriver-manager\n",
      "  Downloading webdriver_manager-4.0.2-py2.py3-none-any.whl.metadata (12 kB)\n",
      "Requirement already satisfied: requests in /home/ucfbsbh/mambaforge/envs/matinfo/lib/python3.12/site-packages (from webdriver-manager) (2.32.3)\n",
      "Requirement already satisfied: python-dotenv in /home/ucfbsbh/mambaforge/envs/matinfo/lib/python3.12/site-packages (from webdriver-manager) (1.0.1)\n",
      "Requirement already satisfied: packaging in /home/ucfbsbh/mambaforge/envs/matinfo/lib/python3.12/site-packages (from webdriver-manager) (24.2)\n",
      "Requirement already satisfied: charset_normalizer<4,>=2 in /home/ucfbsbh/mambaforge/envs/matinfo/lib/python3.12/site-packages (from requests->webdriver-manager) (3.4.0)\n",
      "Requirement already satisfied: idna<4,>=2.5 in /home/ucfbsbh/mambaforge/envs/matinfo/lib/python3.12/site-packages (from requests->webdriver-manager) (3.10)\n",
      "Requirement already satisfied: urllib3<3,>=1.21.1 in /home/ucfbsbh/mambaforge/envs/matinfo/lib/python3.12/site-packages (from requests->webdriver-manager) (2.5.0)\n",
      "Requirement already satisfied: certifi>=2017.4.17 in /home/ucfbsbh/mambaforge/envs/matinfo/lib/python3.12/site-packages (from requests->webdriver-manager) (2025.8.3)\n",
      "Downloading webdriver_manager-4.0.2-py2.py3-none-any.whl (27 kB)\n",
      "Installing collected packages: webdriver-manager\n",
      "Successfully installed webdriver-manager-4.0.2\n"
     ]
    }
   ],
   "source": [
    "!pip install webdriver-manager\n"
   ]
  },
  {
   "cell_type": "code",
   "execution_count": 21,
   "id": "a9d8146b",
   "metadata": {},
   "outputs": [],
   "source": [
    "from selenium import webdriver\n",
    "from selenium.webdriver.common.by import By\n",
    "from selenium.webdriver.support.ui import WebDriverWait\n",
    "from selenium.webdriver.support import expected_conditions as EC\n",
    "from selenium.webdriver.chrome.service import Service\n",
    "from webdriver_manager.chrome import ChromeDriverManager  # Auto-downloads driver\n",
    "from bs4 import BeautifulSoup\n",
    "import pandas as pd\n",
    "import time  # For delays\n",
    "import json"
   ]
  },
  {
   "cell_type": "code",
   "execution_count": 24,
   "id": "c1252180",
   "metadata": {},
   "outputs": [
    {
     "ename": "WebDriverException",
     "evalue": "Message: unknown error: cannot find Chrome binary\nStacktrace:\n#0 0x562fed4fa4e3 <unknown>\n#1 0x562fed229c76 <unknown>\n#2 0x562fed250757 <unknown>\n#3 0x562fed24f029 <unknown>\n#4 0x562fed28dccc <unknown>\n#5 0x562fed28d47f <unknown>\n#6 0x562fed284de3 <unknown>\n#7 0x562fed25a2dd <unknown>\n#8 0x562fed25b34e <unknown>\n#9 0x562fed4ba3e4 <unknown>\n#10 0x562fed4be3d7 <unknown>\n#11 0x562fed4c8b20 <unknown>\n#12 0x562fed4bf023 <unknown>\n#13 0x562fed48d1aa <unknown>\n#14 0x562fed4e36b8 <unknown>\n#15 0x562fed4e3847 <unknown>\n#16 0x562fed4f3243 <unknown>\n#17 0x7fc106d5919a start_thread\n",
     "output_type": "error",
     "traceback": [
      "\u001b[0;31m---------------------------------------------------------------------------\u001b[0m",
      "\u001b[0;31mWebDriverException\u001b[0m                        Traceback (most recent call last)",
      "Cell \u001b[0;32mIn[24], line 12\u001b[0m\n\u001b[1;32m      9\u001b[0m options\u001b[38;5;241m.\u001b[39madd_argument(\u001b[38;5;124m\"\u001b[39m\u001b[38;5;124m--disable-dev-shm-usage\u001b[39m\u001b[38;5;124m\"\u001b[39m)  \u001b[38;5;66;03m# Overcome limited resource problems\u001b[39;00m\n\u001b[1;32m     11\u001b[0m service \u001b[38;5;241m=\u001b[39m ChromeService(executable_path\u001b[38;5;241m=\u001b[39mChromeDriverManager()\u001b[38;5;241m.\u001b[39minstall())\n\u001b[0;32m---> 12\u001b[0m driver \u001b[38;5;241m=\u001b[39m \u001b[43mwebdriver\u001b[49m\u001b[38;5;241;43m.\u001b[39;49m\u001b[43mChrome\u001b[49m\u001b[43m(\u001b[49m\u001b[43mservice\u001b[49m\u001b[38;5;241;43m=\u001b[39;49m\u001b[43mservice\u001b[49m\u001b[43m,\u001b[49m\u001b[43m \u001b[49m\u001b[43moptions\u001b[49m\u001b[38;5;241;43m=\u001b[39;49m\u001b[43moptions\u001b[49m\u001b[43m)\u001b[49m\n",
      "File \u001b[0;32m/lustre/home/ucfbsbh/mambaforge/envs/matinfo/lib/python3.12/site-packages/selenium/webdriver/chrome/webdriver.py:47\u001b[0m, in \u001b[0;36mWebDriver.__init__\u001b[0;34m(self, options, service, keep_alive)\u001b[0m\n\u001b[1;32m     44\u001b[0m service \u001b[38;5;241m=\u001b[39m service \u001b[38;5;28;01mif\u001b[39;00m service \u001b[38;5;28;01melse\u001b[39;00m Service()\n\u001b[1;32m     45\u001b[0m options \u001b[38;5;241m=\u001b[39m options \u001b[38;5;28;01mif\u001b[39;00m options \u001b[38;5;28;01melse\u001b[39;00m Options()\n\u001b[0;32m---> 47\u001b[0m \u001b[38;5;28;43msuper\u001b[39;49m\u001b[43m(\u001b[49m\u001b[43m)\u001b[49m\u001b[38;5;241;43m.\u001b[39;49m\u001b[38;5;21;43m__init__\u001b[39;49m\u001b[43m(\u001b[49m\n\u001b[1;32m     48\u001b[0m \u001b[43m    \u001b[49m\u001b[43mbrowser_name\u001b[49m\u001b[38;5;241;43m=\u001b[39;49m\u001b[43mDesiredCapabilities\u001b[49m\u001b[38;5;241;43m.\u001b[39;49m\u001b[43mCHROME\u001b[49m\u001b[43m[\u001b[49m\u001b[38;5;124;43m\"\u001b[39;49m\u001b[38;5;124;43mbrowserName\u001b[39;49m\u001b[38;5;124;43m\"\u001b[39;49m\u001b[43m]\u001b[49m\u001b[43m,\u001b[49m\n\u001b[1;32m     49\u001b[0m \u001b[43m    \u001b[49m\u001b[43mvendor_prefix\u001b[49m\u001b[38;5;241;43m=\u001b[39;49m\u001b[38;5;124;43m\"\u001b[39;49m\u001b[38;5;124;43mgoog\u001b[39;49m\u001b[38;5;124;43m\"\u001b[39;49m\u001b[43m,\u001b[49m\n\u001b[1;32m     50\u001b[0m \u001b[43m    \u001b[49m\u001b[43moptions\u001b[49m\u001b[38;5;241;43m=\u001b[39;49m\u001b[43moptions\u001b[49m\u001b[43m,\u001b[49m\n\u001b[1;32m     51\u001b[0m \u001b[43m    \u001b[49m\u001b[43mservice\u001b[49m\u001b[38;5;241;43m=\u001b[39;49m\u001b[43mservice\u001b[49m\u001b[43m,\u001b[49m\n\u001b[1;32m     52\u001b[0m \u001b[43m    \u001b[49m\u001b[43mkeep_alive\u001b[49m\u001b[38;5;241;43m=\u001b[39;49m\u001b[43mkeep_alive\u001b[49m\u001b[43m,\u001b[49m\n\u001b[1;32m     53\u001b[0m \u001b[43m\u001b[49m\u001b[43m)\u001b[49m\n",
      "File \u001b[0;32m/lustre/home/ucfbsbh/mambaforge/envs/matinfo/lib/python3.12/site-packages/selenium/webdriver/chromium/webdriver.py:69\u001b[0m, in \u001b[0;36mChromiumDriver.__init__\u001b[0;34m(self, browser_name, vendor_prefix, options, service, keep_alive)\u001b[0m\n\u001b[1;32m     60\u001b[0m executor \u001b[38;5;241m=\u001b[39m ChromiumRemoteConnection(\n\u001b[1;32m     61\u001b[0m     remote_server_addr\u001b[38;5;241m=\u001b[39m\u001b[38;5;28mself\u001b[39m\u001b[38;5;241m.\u001b[39mservice\u001b[38;5;241m.\u001b[39mservice_url,\n\u001b[1;32m     62\u001b[0m     browser_name\u001b[38;5;241m=\u001b[39mbrowser_name,\n\u001b[0;32m   (...)\u001b[0m\n\u001b[1;32m     65\u001b[0m     ignore_proxy\u001b[38;5;241m=\u001b[39moptions\u001b[38;5;241m.\u001b[39m_ignore_local_proxy,\n\u001b[1;32m     66\u001b[0m )\n\u001b[1;32m     68\u001b[0m \u001b[38;5;28;01mtry\u001b[39;00m:\n\u001b[0;32m---> 69\u001b[0m     \u001b[38;5;28;43msuper\u001b[39;49m\u001b[43m(\u001b[49m\u001b[43m)\u001b[49m\u001b[38;5;241;43m.\u001b[39;49m\u001b[38;5;21;43m__init__\u001b[39;49m\u001b[43m(\u001b[49m\u001b[43mcommand_executor\u001b[49m\u001b[38;5;241;43m=\u001b[39;49m\u001b[43mexecutor\u001b[49m\u001b[43m,\u001b[49m\u001b[43m \u001b[49m\u001b[43moptions\u001b[49m\u001b[38;5;241;43m=\u001b[39;49m\u001b[43moptions\u001b[49m\u001b[43m)\u001b[49m\n\u001b[1;32m     70\u001b[0m \u001b[38;5;28;01mexcept\u001b[39;00m \u001b[38;5;167;01mException\u001b[39;00m:\n\u001b[1;32m     71\u001b[0m     \u001b[38;5;28mself\u001b[39m\u001b[38;5;241m.\u001b[39mquit()\n",
      "File \u001b[0;32m/lustre/home/ucfbsbh/mambaforge/envs/matinfo/lib/python3.12/site-packages/selenium/webdriver/remote/webdriver.py:263\u001b[0m, in \u001b[0;36mWebDriver.__init__\u001b[0;34m(self, command_executor, keep_alive, file_detector, options, locator_converter, web_element_cls, client_config)\u001b[0m\n\u001b[1;32m    261\u001b[0m \u001b[38;5;28mself\u001b[39m\u001b[38;5;241m.\u001b[39m_authenticator_id \u001b[38;5;241m=\u001b[39m \u001b[38;5;28;01mNone\u001b[39;00m\n\u001b[1;32m    262\u001b[0m \u001b[38;5;28mself\u001b[39m\u001b[38;5;241m.\u001b[39mstart_client()\n\u001b[0;32m--> 263\u001b[0m \u001b[38;5;28;43mself\u001b[39;49m\u001b[38;5;241;43m.\u001b[39;49m\u001b[43mstart_session\u001b[49m\u001b[43m(\u001b[49m\u001b[43mcapabilities\u001b[49m\u001b[43m)\u001b[49m\n\u001b[1;32m    264\u001b[0m \u001b[38;5;28mself\u001b[39m\u001b[38;5;241m.\u001b[39m_fedcm \u001b[38;5;241m=\u001b[39m FedCM(\u001b[38;5;28mself\u001b[39m)\n\u001b[1;32m    266\u001b[0m \u001b[38;5;28mself\u001b[39m\u001b[38;5;241m.\u001b[39m_websocket_connection \u001b[38;5;241m=\u001b[39m \u001b[38;5;28;01mNone\u001b[39;00m\n",
      "File \u001b[0;32m/lustre/home/ucfbsbh/mambaforge/envs/matinfo/lib/python3.12/site-packages/selenium/webdriver/remote/webdriver.py:366\u001b[0m, in \u001b[0;36mWebDriver.start_session\u001b[0;34m(self, capabilities)\u001b[0m\n\u001b[1;32m    364\u001b[0m caps \u001b[38;5;241m=\u001b[39m _create_caps(capabilities)\n\u001b[1;32m    365\u001b[0m \u001b[38;5;28;01mtry\u001b[39;00m:\n\u001b[0;32m--> 366\u001b[0m     response \u001b[38;5;241m=\u001b[39m \u001b[38;5;28;43mself\u001b[39;49m\u001b[38;5;241;43m.\u001b[39;49m\u001b[43mexecute\u001b[49m\u001b[43m(\u001b[49m\u001b[43mCommand\u001b[49m\u001b[38;5;241;43m.\u001b[39;49m\u001b[43mNEW_SESSION\u001b[49m\u001b[43m,\u001b[49m\u001b[43m \u001b[49m\u001b[43mcaps\u001b[49m\u001b[43m)\u001b[49m[\u001b[38;5;124m\"\u001b[39m\u001b[38;5;124mvalue\u001b[39m\u001b[38;5;124m\"\u001b[39m]\n\u001b[1;32m    367\u001b[0m     \u001b[38;5;28mself\u001b[39m\u001b[38;5;241m.\u001b[39msession_id \u001b[38;5;241m=\u001b[39m response\u001b[38;5;241m.\u001b[39mget(\u001b[38;5;124m\"\u001b[39m\u001b[38;5;124msessionId\u001b[39m\u001b[38;5;124m\"\u001b[39m)\n\u001b[1;32m    368\u001b[0m     \u001b[38;5;28mself\u001b[39m\u001b[38;5;241m.\u001b[39mcaps \u001b[38;5;241m=\u001b[39m response\u001b[38;5;241m.\u001b[39mget(\u001b[38;5;124m\"\u001b[39m\u001b[38;5;124mcapabilities\u001b[39m\u001b[38;5;124m\"\u001b[39m)\n",
      "File \u001b[0;32m/lustre/home/ucfbsbh/mambaforge/envs/matinfo/lib/python3.12/site-packages/selenium/webdriver/remote/webdriver.py:458\u001b[0m, in \u001b[0;36mWebDriver.execute\u001b[0;34m(self, driver_command, params)\u001b[0m\n\u001b[1;32m    455\u001b[0m response \u001b[38;5;241m=\u001b[39m cast(RemoteConnection, \u001b[38;5;28mself\u001b[39m\u001b[38;5;241m.\u001b[39mcommand_executor)\u001b[38;5;241m.\u001b[39mexecute(driver_command, params)\n\u001b[1;32m    457\u001b[0m \u001b[38;5;28;01mif\u001b[39;00m response:\n\u001b[0;32m--> 458\u001b[0m     \u001b[38;5;28;43mself\u001b[39;49m\u001b[38;5;241;43m.\u001b[39;49m\u001b[43merror_handler\u001b[49m\u001b[38;5;241;43m.\u001b[39;49m\u001b[43mcheck_response\u001b[49m\u001b[43m(\u001b[49m\u001b[43mresponse\u001b[49m\u001b[43m)\u001b[49m\n\u001b[1;32m    459\u001b[0m     response[\u001b[38;5;124m\"\u001b[39m\u001b[38;5;124mvalue\u001b[39m\u001b[38;5;124m\"\u001b[39m] \u001b[38;5;241m=\u001b[39m \u001b[38;5;28mself\u001b[39m\u001b[38;5;241m.\u001b[39m_unwrap_value(response\u001b[38;5;241m.\u001b[39mget(\u001b[38;5;124m\"\u001b[39m\u001b[38;5;124mvalue\u001b[39m\u001b[38;5;124m\"\u001b[39m, \u001b[38;5;28;01mNone\u001b[39;00m))\n\u001b[1;32m    460\u001b[0m     \u001b[38;5;28;01mreturn\u001b[39;00m response\n",
      "File \u001b[0;32m/lustre/home/ucfbsbh/mambaforge/envs/matinfo/lib/python3.12/site-packages/selenium/webdriver/remote/errorhandler.py:232\u001b[0m, in \u001b[0;36mErrorHandler.check_response\u001b[0;34m(self, response)\u001b[0m\n\u001b[1;32m    230\u001b[0m         alert_text \u001b[38;5;241m=\u001b[39m value[\u001b[38;5;124m\"\u001b[39m\u001b[38;5;124malert\u001b[39m\u001b[38;5;124m\"\u001b[39m]\u001b[38;5;241m.\u001b[39mget(\u001b[38;5;124m\"\u001b[39m\u001b[38;5;124mtext\u001b[39m\u001b[38;5;124m\"\u001b[39m)\n\u001b[1;32m    231\u001b[0m     \u001b[38;5;28;01mraise\u001b[39;00m exception_class(message, screen, stacktrace, alert_text)  \u001b[38;5;66;03m# type: ignore[call-arg]  # mypy is not smart enough here\u001b[39;00m\n\u001b[0;32m--> 232\u001b[0m \u001b[38;5;28;01mraise\u001b[39;00m exception_class(message, screen, stacktrace)\n",
      "\u001b[0;31mWebDriverException\u001b[0m: Message: unknown error: cannot find Chrome binary\nStacktrace:\n#0 0x562fed4fa4e3 <unknown>\n#1 0x562fed229c76 <unknown>\n#2 0x562fed250757 <unknown>\n#3 0x562fed24f029 <unknown>\n#4 0x562fed28dccc <unknown>\n#5 0x562fed28d47f <unknown>\n#6 0x562fed284de3 <unknown>\n#7 0x562fed25a2dd <unknown>\n#8 0x562fed25b34e <unknown>\n#9 0x562fed4ba3e4 <unknown>\n#10 0x562fed4be3d7 <unknown>\n#11 0x562fed4c8b20 <unknown>\n#12 0x562fed4bf023 <unknown>\n#13 0x562fed48d1aa <unknown>\n#14 0x562fed4e36b8 <unknown>\n#15 0x562fed4e3847 <unknown>\n#16 0x562fed4f3243 <unknown>\n#17 0x7fc106d5919a start_thread\n"
     ]
    }
   ],
   "source": [
    "from selenium import webdriver\n",
    "from selenium.webdriver.chrome.service import Service as ChromeService\n",
    "from webdriver_manager.chrome import ChromeDriverManager\n",
    "from selenium.webdriver.chrome.options import Options\n",
    "\n",
    "options = Options()\n",
    "options.add_argument(\"--headless\")  # Run in headless mode\n",
    "options.add_argument(\"--no-sandbox\")  # Required for some Linux environments\n",
    "options.add_argument(\"--disable-dev-shm-usage\")  # Overcome limited resource problems\n",
    "\n",
    "service = ChromeService(executable_path=ChromeDriverManager().install())\n",
    "driver = webdriver.Chrome(service=service, options=options)\n"
   ]
  },
  {
   "cell_type": "code",
   "execution_count": 22,
   "id": "e8f01940",
   "metadata": {},
   "outputs": [
    {
     "ename": "WebDriverException",
     "evalue": "Message: unknown error: cannot find Chrome binary\nStacktrace:\n#0 0x560d5e4894e3 <unknown>\n#1 0x560d5e1b8c76 <unknown>\n#2 0x560d5e1df757 <unknown>\n#3 0x560d5e1de029 <unknown>\n#4 0x560d5e21cccc <unknown>\n#5 0x560d5e21c47f <unknown>\n#6 0x560d5e213de3 <unknown>\n#7 0x560d5e1e92dd <unknown>\n#8 0x560d5e1ea34e <unknown>\n#9 0x560d5e4493e4 <unknown>\n#10 0x560d5e44d3d7 <unknown>\n#11 0x560d5e457b20 <unknown>\n#12 0x560d5e44e023 <unknown>\n#13 0x560d5e41c1aa <unknown>\n#14 0x560d5e4726b8 <unknown>\n#15 0x560d5e472847 <unknown>\n#16 0x560d5e482243 <unknown>\n#17 0x7f9f4e28619a start_thread\n",
     "output_type": "error",
     "traceback": [
      "\u001b[0;31m---------------------------------------------------------------------------\u001b[0m",
      "\u001b[0;31mWebDriverException\u001b[0m                        Traceback (most recent call last)",
      "Cell \u001b[0;32mIn[22], line 9\u001b[0m\n\u001b[1;32m      7\u001b[0m options\u001b[38;5;241m.\u001b[39madd_argument(\u001b[38;5;124m\"\u001b[39m\u001b[38;5;124m--no-sandbox\u001b[39m\u001b[38;5;124m\"\u001b[39m)  \u001b[38;5;66;03m# For stability\u001b[39;00m\n\u001b[1;32m      8\u001b[0m options\u001b[38;5;241m.\u001b[39madd_argument(\u001b[38;5;124m\"\u001b[39m\u001b[38;5;124m--disable-dev-shm-usage\u001b[39m\u001b[38;5;124m\"\u001b[39m)\n\u001b[0;32m----> 9\u001b[0m driver \u001b[38;5;241m=\u001b[39m \u001b[43mwebdriver\u001b[49m\u001b[38;5;241;43m.\u001b[39;49m\u001b[43mChrome\u001b[49m\u001b[43m(\u001b[49m\u001b[43mservice\u001b[49m\u001b[38;5;241;43m=\u001b[39;49m\u001b[43mService\u001b[49m\u001b[43m(\u001b[49m\u001b[43mChromeDriverManager\u001b[49m\u001b[43m(\u001b[49m\u001b[43m)\u001b[49m\u001b[38;5;241;43m.\u001b[39;49m\u001b[43minstall\u001b[49m\u001b[43m(\u001b[49m\u001b[43m)\u001b[49m\u001b[43m)\u001b[49m\u001b[43m,\u001b[49m\u001b[43m \u001b[49m\u001b[43moptions\u001b[49m\u001b[38;5;241;43m=\u001b[39;49m\u001b[43moptions\u001b[49m\u001b[43m)\u001b[49m\n\u001b[1;32m     11\u001b[0m \u001b[38;5;66;03m# Navigate and wait for load\u001b[39;00m\n\u001b[1;32m     12\u001b[0m driver\u001b[38;5;241m.\u001b[39mget(url)\n",
      "File \u001b[0;32m/lustre/home/ucfbsbh/mambaforge/envs/matinfo/lib/python3.12/site-packages/selenium/webdriver/chrome/webdriver.py:47\u001b[0m, in \u001b[0;36mWebDriver.__init__\u001b[0;34m(self, options, service, keep_alive)\u001b[0m\n\u001b[1;32m     44\u001b[0m service \u001b[38;5;241m=\u001b[39m service \u001b[38;5;28;01mif\u001b[39;00m service \u001b[38;5;28;01melse\u001b[39;00m Service()\n\u001b[1;32m     45\u001b[0m options \u001b[38;5;241m=\u001b[39m options \u001b[38;5;28;01mif\u001b[39;00m options \u001b[38;5;28;01melse\u001b[39;00m Options()\n\u001b[0;32m---> 47\u001b[0m \u001b[38;5;28;43msuper\u001b[39;49m\u001b[43m(\u001b[49m\u001b[43m)\u001b[49m\u001b[38;5;241;43m.\u001b[39;49m\u001b[38;5;21;43m__init__\u001b[39;49m\u001b[43m(\u001b[49m\n\u001b[1;32m     48\u001b[0m \u001b[43m    \u001b[49m\u001b[43mbrowser_name\u001b[49m\u001b[38;5;241;43m=\u001b[39;49m\u001b[43mDesiredCapabilities\u001b[49m\u001b[38;5;241;43m.\u001b[39;49m\u001b[43mCHROME\u001b[49m\u001b[43m[\u001b[49m\u001b[38;5;124;43m\"\u001b[39;49m\u001b[38;5;124;43mbrowserName\u001b[39;49m\u001b[38;5;124;43m\"\u001b[39;49m\u001b[43m]\u001b[49m\u001b[43m,\u001b[49m\n\u001b[1;32m     49\u001b[0m \u001b[43m    \u001b[49m\u001b[43mvendor_prefix\u001b[49m\u001b[38;5;241;43m=\u001b[39;49m\u001b[38;5;124;43m\"\u001b[39;49m\u001b[38;5;124;43mgoog\u001b[39;49m\u001b[38;5;124;43m\"\u001b[39;49m\u001b[43m,\u001b[49m\n\u001b[1;32m     50\u001b[0m \u001b[43m    \u001b[49m\u001b[43moptions\u001b[49m\u001b[38;5;241;43m=\u001b[39;49m\u001b[43moptions\u001b[49m\u001b[43m,\u001b[49m\n\u001b[1;32m     51\u001b[0m \u001b[43m    \u001b[49m\u001b[43mservice\u001b[49m\u001b[38;5;241;43m=\u001b[39;49m\u001b[43mservice\u001b[49m\u001b[43m,\u001b[49m\n\u001b[1;32m     52\u001b[0m \u001b[43m    \u001b[49m\u001b[43mkeep_alive\u001b[49m\u001b[38;5;241;43m=\u001b[39;49m\u001b[43mkeep_alive\u001b[49m\u001b[43m,\u001b[49m\n\u001b[1;32m     53\u001b[0m \u001b[43m\u001b[49m\u001b[43m)\u001b[49m\n",
      "File \u001b[0;32m/lustre/home/ucfbsbh/mambaforge/envs/matinfo/lib/python3.12/site-packages/selenium/webdriver/chromium/webdriver.py:69\u001b[0m, in \u001b[0;36mChromiumDriver.__init__\u001b[0;34m(self, browser_name, vendor_prefix, options, service, keep_alive)\u001b[0m\n\u001b[1;32m     60\u001b[0m executor \u001b[38;5;241m=\u001b[39m ChromiumRemoteConnection(\n\u001b[1;32m     61\u001b[0m     remote_server_addr\u001b[38;5;241m=\u001b[39m\u001b[38;5;28mself\u001b[39m\u001b[38;5;241m.\u001b[39mservice\u001b[38;5;241m.\u001b[39mservice_url,\n\u001b[1;32m     62\u001b[0m     browser_name\u001b[38;5;241m=\u001b[39mbrowser_name,\n\u001b[0;32m   (...)\u001b[0m\n\u001b[1;32m     65\u001b[0m     ignore_proxy\u001b[38;5;241m=\u001b[39moptions\u001b[38;5;241m.\u001b[39m_ignore_local_proxy,\n\u001b[1;32m     66\u001b[0m )\n\u001b[1;32m     68\u001b[0m \u001b[38;5;28;01mtry\u001b[39;00m:\n\u001b[0;32m---> 69\u001b[0m     \u001b[38;5;28;43msuper\u001b[39;49m\u001b[43m(\u001b[49m\u001b[43m)\u001b[49m\u001b[38;5;241;43m.\u001b[39;49m\u001b[38;5;21;43m__init__\u001b[39;49m\u001b[43m(\u001b[49m\u001b[43mcommand_executor\u001b[49m\u001b[38;5;241;43m=\u001b[39;49m\u001b[43mexecutor\u001b[49m\u001b[43m,\u001b[49m\u001b[43m \u001b[49m\u001b[43moptions\u001b[49m\u001b[38;5;241;43m=\u001b[39;49m\u001b[43moptions\u001b[49m\u001b[43m)\u001b[49m\n\u001b[1;32m     70\u001b[0m \u001b[38;5;28;01mexcept\u001b[39;00m \u001b[38;5;167;01mException\u001b[39;00m:\n\u001b[1;32m     71\u001b[0m     \u001b[38;5;28mself\u001b[39m\u001b[38;5;241m.\u001b[39mquit()\n",
      "File \u001b[0;32m/lustre/home/ucfbsbh/mambaforge/envs/matinfo/lib/python3.12/site-packages/selenium/webdriver/remote/webdriver.py:263\u001b[0m, in \u001b[0;36mWebDriver.__init__\u001b[0;34m(self, command_executor, keep_alive, file_detector, options, locator_converter, web_element_cls, client_config)\u001b[0m\n\u001b[1;32m    261\u001b[0m \u001b[38;5;28mself\u001b[39m\u001b[38;5;241m.\u001b[39m_authenticator_id \u001b[38;5;241m=\u001b[39m \u001b[38;5;28;01mNone\u001b[39;00m\n\u001b[1;32m    262\u001b[0m \u001b[38;5;28mself\u001b[39m\u001b[38;5;241m.\u001b[39mstart_client()\n\u001b[0;32m--> 263\u001b[0m \u001b[38;5;28;43mself\u001b[39;49m\u001b[38;5;241;43m.\u001b[39;49m\u001b[43mstart_session\u001b[49m\u001b[43m(\u001b[49m\u001b[43mcapabilities\u001b[49m\u001b[43m)\u001b[49m\n\u001b[1;32m    264\u001b[0m \u001b[38;5;28mself\u001b[39m\u001b[38;5;241m.\u001b[39m_fedcm \u001b[38;5;241m=\u001b[39m FedCM(\u001b[38;5;28mself\u001b[39m)\n\u001b[1;32m    266\u001b[0m \u001b[38;5;28mself\u001b[39m\u001b[38;5;241m.\u001b[39m_websocket_connection \u001b[38;5;241m=\u001b[39m \u001b[38;5;28;01mNone\u001b[39;00m\n",
      "File \u001b[0;32m/lustre/home/ucfbsbh/mambaforge/envs/matinfo/lib/python3.12/site-packages/selenium/webdriver/remote/webdriver.py:366\u001b[0m, in \u001b[0;36mWebDriver.start_session\u001b[0;34m(self, capabilities)\u001b[0m\n\u001b[1;32m    364\u001b[0m caps \u001b[38;5;241m=\u001b[39m _create_caps(capabilities)\n\u001b[1;32m    365\u001b[0m \u001b[38;5;28;01mtry\u001b[39;00m:\n\u001b[0;32m--> 366\u001b[0m     response \u001b[38;5;241m=\u001b[39m \u001b[38;5;28;43mself\u001b[39;49m\u001b[38;5;241;43m.\u001b[39;49m\u001b[43mexecute\u001b[49m\u001b[43m(\u001b[49m\u001b[43mCommand\u001b[49m\u001b[38;5;241;43m.\u001b[39;49m\u001b[43mNEW_SESSION\u001b[49m\u001b[43m,\u001b[49m\u001b[43m \u001b[49m\u001b[43mcaps\u001b[49m\u001b[43m)\u001b[49m[\u001b[38;5;124m\"\u001b[39m\u001b[38;5;124mvalue\u001b[39m\u001b[38;5;124m\"\u001b[39m]\n\u001b[1;32m    367\u001b[0m     \u001b[38;5;28mself\u001b[39m\u001b[38;5;241m.\u001b[39msession_id \u001b[38;5;241m=\u001b[39m response\u001b[38;5;241m.\u001b[39mget(\u001b[38;5;124m\"\u001b[39m\u001b[38;5;124msessionId\u001b[39m\u001b[38;5;124m\"\u001b[39m)\n\u001b[1;32m    368\u001b[0m     \u001b[38;5;28mself\u001b[39m\u001b[38;5;241m.\u001b[39mcaps \u001b[38;5;241m=\u001b[39m response\u001b[38;5;241m.\u001b[39mget(\u001b[38;5;124m\"\u001b[39m\u001b[38;5;124mcapabilities\u001b[39m\u001b[38;5;124m\"\u001b[39m)\n",
      "File \u001b[0;32m/lustre/home/ucfbsbh/mambaforge/envs/matinfo/lib/python3.12/site-packages/selenium/webdriver/remote/webdriver.py:458\u001b[0m, in \u001b[0;36mWebDriver.execute\u001b[0;34m(self, driver_command, params)\u001b[0m\n\u001b[1;32m    455\u001b[0m response \u001b[38;5;241m=\u001b[39m cast(RemoteConnection, \u001b[38;5;28mself\u001b[39m\u001b[38;5;241m.\u001b[39mcommand_executor)\u001b[38;5;241m.\u001b[39mexecute(driver_command, params)\n\u001b[1;32m    457\u001b[0m \u001b[38;5;28;01mif\u001b[39;00m response:\n\u001b[0;32m--> 458\u001b[0m     \u001b[38;5;28;43mself\u001b[39;49m\u001b[38;5;241;43m.\u001b[39;49m\u001b[43merror_handler\u001b[49m\u001b[38;5;241;43m.\u001b[39;49m\u001b[43mcheck_response\u001b[49m\u001b[43m(\u001b[49m\u001b[43mresponse\u001b[49m\u001b[43m)\u001b[49m\n\u001b[1;32m    459\u001b[0m     response[\u001b[38;5;124m\"\u001b[39m\u001b[38;5;124mvalue\u001b[39m\u001b[38;5;124m\"\u001b[39m] \u001b[38;5;241m=\u001b[39m \u001b[38;5;28mself\u001b[39m\u001b[38;5;241m.\u001b[39m_unwrap_value(response\u001b[38;5;241m.\u001b[39mget(\u001b[38;5;124m\"\u001b[39m\u001b[38;5;124mvalue\u001b[39m\u001b[38;5;124m\"\u001b[39m, \u001b[38;5;28;01mNone\u001b[39;00m))\n\u001b[1;32m    460\u001b[0m     \u001b[38;5;28;01mreturn\u001b[39;00m response\n",
      "File \u001b[0;32m/lustre/home/ucfbsbh/mambaforge/envs/matinfo/lib/python3.12/site-packages/selenium/webdriver/remote/errorhandler.py:232\u001b[0m, in \u001b[0;36mErrorHandler.check_response\u001b[0;34m(self, response)\u001b[0m\n\u001b[1;32m    230\u001b[0m         alert_text \u001b[38;5;241m=\u001b[39m value[\u001b[38;5;124m\"\u001b[39m\u001b[38;5;124malert\u001b[39m\u001b[38;5;124m\"\u001b[39m]\u001b[38;5;241m.\u001b[39mget(\u001b[38;5;124m\"\u001b[39m\u001b[38;5;124mtext\u001b[39m\u001b[38;5;124m\"\u001b[39m)\n\u001b[1;32m    231\u001b[0m     \u001b[38;5;28;01mraise\u001b[39;00m exception_class(message, screen, stacktrace, alert_text)  \u001b[38;5;66;03m# type: ignore[call-arg]  # mypy is not smart enough here\u001b[39;00m\n\u001b[0;32m--> 232\u001b[0m \u001b[38;5;28;01mraise\u001b[39;00m exception_class(message, screen, stacktrace)\n",
      "\u001b[0;31mWebDriverException\u001b[0m: Message: unknown error: cannot find Chrome binary\nStacktrace:\n#0 0x560d5e4894e3 <unknown>\n#1 0x560d5e1b8c76 <unknown>\n#2 0x560d5e1df757 <unknown>\n#3 0x560d5e1de029 <unknown>\n#4 0x560d5e21cccc <unknown>\n#5 0x560d5e21c47f <unknown>\n#6 0x560d5e213de3 <unknown>\n#7 0x560d5e1e92dd <unknown>\n#8 0x560d5e1ea34e <unknown>\n#9 0x560d5e4493e4 <unknown>\n#10 0x560d5e44d3d7 <unknown>\n#11 0x560d5e457b20 <unknown>\n#12 0x560d5e44e023 <unknown>\n#13 0x560d5e41c1aa <unknown>\n#14 0x560d5e4726b8 <unknown>\n#15 0x560d5e472847 <unknown>\n#16 0x560d5e482243 <unknown>\n#17 0x7f9f4e28619a start_thread\n"
     ]
    }
   ],
   "source": [
    "# URL (your provided search: Golders Green rentals, min £900/month, 10-mile radius)\n",
    "url = \"https://www.zoopla.co.uk/to-rent/property/golders-green/?price_frequency=per_month&price_min=900&q=Golders+Green%2C+London&radius=10&search_source=home&recent_search=true\"\n",
    "\n",
    "# Setup driver (headless=False to see browser; set True for background)\n",
    "options = webdriver.ChromeOptions()\n",
    "options.add_argument(\"--user-agent=Mozilla/5.0 (Windows NT 10.0; Win64; x64) AppleWebKit/537.36 (KHTML, like Gecko) Chrome/91.0.4472.124 Safari/537.36\")\n",
    "options.add_argument(\"--no-sandbox\")  # For stability\n",
    "options.add_argument(\"--disable-dev-shm-usage\")\n",
    "driver = webdriver.Chrome(service=Service(ChromeDriverManager().install()), options=options)\n",
    "\n",
    "# Navigate and wait for load\n",
    "driver.get(url)\n",
    "wait = WebDriverWait(driver, 10)  # Wait up to 10s\n",
    "time.sleep(3)  # Extra delay for JS\n",
    "\n",
    "# Check if loaded (look for total results text)\n",
    "total_results = driver.find_element(By.CSS_SELECTOR, \".network-results\").text if driver.find_elements(By.CSS_SELECTOR, \".network-results\") else \"No results element\"\n",
    "print(\"Total Results (approx.):\", total_results)  # e.g., \"37,637 properties\"\n",
    "print(\"Page Title:\", driver.title)"
   ]
  },
  {
   "cell_type": "code",
   "execution_count": null,
   "metadata": {},
   "outputs": [],
   "source": []
  },
  {
   "cell_type": "code",
   "execution_count": null,
   "id": "d83c4f76",
   "metadata": {},
   "outputs": [],
   "source": []
  },
  {
   "cell_type": "code",
   "execution_count": null,
   "id": "8acdb440",
   "metadata": {},
   "outputs": [],
   "source": []
  },
  {
   "cell_type": "code",
   "execution_count": null,
   "id": "1147ac60",
   "metadata": {},
   "outputs": [],
   "source": []
  },
  {
   "cell_type": "code",
   "execution_count": null,
   "id": "18016af0",
   "metadata": {},
   "outputs": [],
   "source": []
  },
  {
   "cell_type": "code",
   "execution_count": null,
   "id": "870a37ed",
   "metadata": {},
   "outputs": [],
   "source": []
  },
  {
   "cell_type": "code",
   "execution_count": null,
   "id": "f0ed4c40",
   "metadata": {},
   "outputs": [],
   "source": []
  },
  {
   "cell_type": "code",
   "execution_count": null,
   "id": "ea7781c6",
   "metadata": {},
   "outputs": [],
   "source": []
  },
  {
   "cell_type": "code",
   "execution_count": null,
   "id": "9a3a908a",
   "metadata": {},
   "outputs": [],
   "source": []
  },
  {
   "cell_type": "code",
   "execution_count": null,
   "id": "0443b865",
   "metadata": {},
   "outputs": [],
   "source": []
  },
  {
   "cell_type": "code",
   "execution_count": null,
   "metadata": {},
   "outputs": [],
   "source": []
  },
  {
   "cell_type": "code",
   "execution_count": null,
   "metadata": {},
   "outputs": [],
   "source": []
  },
  {
   "cell_type": "code",
   "execution_count": null,
   "id": "9bff292f",
   "metadata": {},
   "outputs": [],
   "source": []
  },
  {
   "cell_type": "code",
   "execution_count": null,
   "id": "788f7c82",
   "metadata": {},
   "outputs": [],
   "source": []
  },
  {
   "cell_type": "code",
   "execution_count": null,
   "id": "4bf0cbe5",
   "metadata": {},
   "outputs": [],
   "source": []
  },
  {
   "cell_type": "code",
   "execution_count": null,
   "id": "8db0f2f4",
   "metadata": {},
   "outputs": [],
   "source": []
  },
  {
   "cell_type": "code",
   "execution_count": 55,
   "id": "1af746f3",
   "metadata": {},
   "outputs": [
    {
     "data": {
      "text/plain": [
       "<tr>\n",
       "<th rowspan=\"2\" scope=\"row\" style=\"text-align:center;\">14\n",
       "</th>\n",
       "<td>10 January 2015,<br/>09:47<sup class=\"reference\" id=\"cite_ref-nasa20150107_74-0\"><a href=\"#cite_note-nasa20150107-74\"><span class=\"cite-bracket\">[</span>67<span class=\"cite-bracket\">]</span></a></sup>\n",
       "</td>\n",
       "<td><a href=\"/wiki/Falcon_9_v1.1\" title=\"Falcon 9 v1.1\">F9 v1.1</a><br/>B1012<sup class=\"reference\" id=\"cite_ref-block_numbers_14-8\"><a href=\"#cite_note-block_numbers-14\"><span class=\"cite-bracket\">[</span>8<span class=\"cite-bracket\">]</span></a></sup>\n",
       "</td>\n",
       "<td><a href=\"/wiki/Cape_Canaveral_Space_Force_Station\" title=\"Cape Canaveral Space Force Station\">Cape Canaveral</a>,<br/><a href=\"/wiki/Cape_Canaveral_Space_Launch_Complex_40\" title=\"Cape Canaveral Space Launch Complex 40\">LC-40</a>\n",
       "</td>\n",
       "<td><a href=\"/wiki/SpaceX_CRS-5\" title=\"SpaceX CRS-5\">SpaceX CRS-5</a><sup class=\"reference\" id=\"cite_ref-sxManifest20130731_75-0\"><a href=\"#cite_note-sxManifest20130731-75\"><span class=\"cite-bracket\">[</span>68<span class=\"cite-bracket\">]</span></a></sup><br/>(Dragon C107)\n",
       "</td>\n",
       "<td>2,395 kg (5,280 lb)<sup class=\"reference\" id=\"cite_ref-76\"><a href=\"#cite_note-76\"><span class=\"cite-bracket\">[</span>69<span class=\"cite-bracket\">]</span></a></sup>\n",
       "</td>\n",
       "<td><a class=\"mw-redirect\" href=\"/wiki/Low_Earth_Orbit\" title=\"Low Earth Orbit\">LEO</a> (<a class=\"mw-redirect\" href=\"/wiki/ISS\" title=\"ISS\">ISS</a>)\n",
       "</td>\n",
       "<td><a href=\"/wiki/NASA\" title=\"NASA\">NASA</a> (<a href=\"/wiki/Commercial_Resupply_Services\" title=\"Commercial Resupply Services\">CRS</a>)\n",
       "</td>\n",
       "<td class=\"table-success\" style=\"background: #9EFF9E; color:black; vertical-align: middle; text-align: center;\">Success<sup class=\"reference\" id=\"cite_ref-nasacrs520150110_77-0\"><a href=\"#cite_note-nasacrs520150110-77\"><span class=\"cite-bracket\">[</span>70<span class=\"cite-bracket\">]</span></a></sup>\n",
       "</td>\n",
       "<td class=\"table-failure\" style=\"background: #FFC7C7; color:black; vertical-align: middle; text-align: center;\">Failure <small><span class=\"nowrap\">(drone ship)</span></small>\n",
       "</td></tr>"
      ]
     },
     "execution_count": 55,
     "metadata": {},
     "output_type": "execute_result"
    }
   ],
   "source": [
    "# ---- ROW VALUES ----\n",
    "# Get the first row (after the header)\n",
    "first_row = launch_table.find_all(\"tr\")[1]\n",
    "first_row"
   ]
  },
  {
   "cell_type": "code",
   "execution_count": 59,
   "id": "f4f8a7ba",
   "metadata": {},
   "outputs": [
    {
     "data": {
      "text/plain": [
       "'Cape Canaveral , LC-40'"
      ]
     },
     "execution_count": 59,
     "metadata": {},
     "output_type": "execute_result"
    }
   ],
   "source": [
    "# Extract each cell explicitly\n",
    "cell1 = first_row.find_all(\"td\")[0].get_text(\" \", strip=True)\n",
    "cell2  = first_row.find_all(\"td\")[1].get_text(\" \", strip=True)\n",
    "cell3 = first_row.find_all(\"td\")[2].get_text(\" \", strip =True)\n",
    "cell3"
   ]
  },
  {
   "cell_type": "code",
   "execution_count": 36,
   "id": "33a8a59c",
   "metadata": {},
   "outputs": [],
   "source": [
    "# Step 4: Extract column names (headers)\n",
    "headers = [th.get_text(\" \", strip=True) for th in launch_table.find_all(\"th\")]"
   ]
  },
  {
   "cell_type": "code",
   "execution_count": 37,
   "id": "650a4bf6",
   "metadata": {},
   "outputs": [
    {
     "data": {
      "text/plain": [
       "['Flight No.',\n",
       " 'Date and time ( UTC )',\n",
       " 'Version, Booster [ b ]',\n",
       " 'Launch site',\n",
       " 'Payload [ c ]',\n",
       " 'Payload mass',\n",
       " 'Orbit',\n",
       " 'Customer',\n",
       " 'Launch outcome',\n",
       " 'Booster landing',\n",
       " '14',\n",
       " '15',\n",
       " '16',\n",
       " '17',\n",
       " '18',\n",
       " '19',\n",
       " '20']"
      ]
     },
     "execution_count": 37,
     "metadata": {},
     "output_type": "execute_result"
    }
   ],
   "source": [
    "headers"
   ]
  },
  {
   "cell_type": "code",
   "execution_count": 67,
   "id": "3d42ddf5",
   "metadata": {},
   "outputs": [
    {
     "name": "stdout",
     "output_type": "stream",
     "text": [
      "Empty DataFrame\n",
      "Columns: []\n",
      "Index: []\n"
     ]
    }
   ],
   "source": [
    "# ---- HEADERS ----\n",
    "headers = [th.get_text(\" \", strip=True) for th in launch_table.find_all(\"th\")]\n",
    "\n",
    "# ---- ROWS ----\n",
    "rows = []\n",
    "for tr in launch_table.find_all(\"tr\")[1:]:  # skip header row\n",
    "    cells = [td.get_text(\" \", strip=True) for td in tr.find_all(\"td\")]\n",
    "    if len(cells) == len(headers):  # align properly\n",
    "        rows.append(dict(zip(headers, cells)))\n",
    "\n",
    "# ---- DATAFRAME ----\n",
    "df = pd.DataFrame(rows)\n",
    "print(df.head())\n"
   ]
  },
  {
   "cell_type": "code",
   "execution_count": 69,
   "id": "2499d97d",
   "metadata": {},
   "outputs": [
    {
     "data": {
      "text/html": [
       "<div>\n",
       "<style scoped>\n",
       "    .dataframe tbody tr th:only-of-type {\n",
       "        vertical-align: middle;\n",
       "    }\n",
       "\n",
       "    .dataframe tbody tr th {\n",
       "        vertical-align: top;\n",
       "    }\n",
       "\n",
       "    .dataframe thead th {\n",
       "        text-align: right;\n",
       "    }\n",
       "</style>\n",
       "<table border=\"1\" class=\"dataframe\">\n",
       "  <thead>\n",
       "    <tr style=\"text-align: right;\">\n",
       "      <th></th>\n",
       "    </tr>\n",
       "  </thead>\n",
       "  <tbody>\n",
       "  </tbody>\n",
       "</table>\n",
       "</div>"
      ],
      "text/plain": [
       "Empty DataFrame\n",
       "Columns: []\n",
       "Index: []"
      ]
     },
     "execution_count": 69,
     "metadata": {},
     "output_type": "execute_result"
    }
   ],
   "source": [
    "df"
   ]
  },
  {
   "cell_type": "code",
   "execution_count": 70,
   "id": "60922933",
   "metadata": {},
   "outputs": [
    {
     "data": {
      "text/plain": [
       "[]"
      ]
     },
     "execution_count": 70,
     "metadata": {},
     "output_type": "execute_result"
    }
   ],
   "source": [
    "rows"
   ]
  },
  {
   "cell_type": "code",
   "execution_count": 93,
   "id": "db570b9c",
   "metadata": {},
   "outputs": [
    {
     "data": {
      "text/html": [
       "<div>\n",
       "<style scoped>\n",
       "    .dataframe tbody tr th:only-of-type {\n",
       "        vertical-align: middle;\n",
       "    }\n",
       "\n",
       "    .dataframe tbody tr th {\n",
       "        vertical-align: top;\n",
       "    }\n",
       "\n",
       "    .dataframe thead th {\n",
       "        text-align: right;\n",
       "    }\n",
       "</style>\n",
       "<table border=\"1\" class=\"dataframe\">\n",
       "  <thead>\n",
       "    <tr style=\"text-align: right;\">\n",
       "      <th></th>\n",
       "      <th>Flight No.</th>\n",
       "      <th>Date</th>\n",
       "      <th>Time</th>\n",
       "      <th>Version Booster</th>\n",
       "      <th>Launch Site</th>\n",
       "      <th>Payload</th>\n",
       "      <th>Payload mass</th>\n",
       "      <th>Orbit</th>\n",
       "      <th>Customer</th>\n",
       "      <th>Launch outcome</th>\n",
       "      <th>Booster landing</th>\n",
       "    </tr>\n",
       "  </thead>\n",
       "  <tbody>\n",
       "    <tr>\n",
       "      <th>0</th>\n",
       "      <td>1</td>\n",
       "      <td>4 June 2010</td>\n",
       "      <td>18:45</td>\n",
       "      <td>F9 v1.07B0003.18</td>\n",
       "      <td>CCAFS</td>\n",
       "      <td>Dragon Spacecraft Qualification Unit</td>\n",
       "      <td>0</td>\n",
       "      <td>LEO</td>\n",
       "      <td>SpaceX</td>\n",
       "      <td>Success</td>\n",
       "      <td>Failure</td>\n",
       "    </tr>\n",
       "    <tr>\n",
       "      <th>1</th>\n",
       "      <td>2</td>\n",
       "      <td>8 December 2010</td>\n",
       "      <td>15:43</td>\n",
       "      <td>F9 v1.07B0004.18</td>\n",
       "      <td>CCAFS</td>\n",
       "      <td>Dragon</td>\n",
       "      <td>0</td>\n",
       "      <td>LEO</td>\n",
       "      <td>NASA</td>\n",
       "      <td>Success</td>\n",
       "      <td>Failure</td>\n",
       "    </tr>\n",
       "    <tr>\n",
       "      <th>2</th>\n",
       "      <td>3</td>\n",
       "      <td>22 May 2012</td>\n",
       "      <td>07:44</td>\n",
       "      <td>F9 v1.07B0005.18</td>\n",
       "      <td>CCAFS</td>\n",
       "      <td>Dragon</td>\n",
       "      <td>525 kg</td>\n",
       "      <td>LEO</td>\n",
       "      <td>NASA</td>\n",
       "      <td>Success</td>\n",
       "      <td>No attempt</td>\n",
       "    </tr>\n",
       "    <tr>\n",
       "      <th>3</th>\n",
       "      <td>4</td>\n",
       "      <td>8 October 2012</td>\n",
       "      <td>00:35</td>\n",
       "      <td>F9 v1.07B0006.18</td>\n",
       "      <td>CCAFS</td>\n",
       "      <td>SpaceX CRS-1</td>\n",
       "      <td>4,700 kg</td>\n",
       "      <td>LEO</td>\n",
       "      <td>NASA</td>\n",
       "      <td>Success</td>\n",
       "      <td>No attempt</td>\n",
       "    </tr>\n",
       "    <tr>\n",
       "      <th>4</th>\n",
       "      <td>5</td>\n",
       "      <td>1 March 2013</td>\n",
       "      <td>15:10</td>\n",
       "      <td>F9 v1.07B0007.18</td>\n",
       "      <td>CCAFS</td>\n",
       "      <td>SpaceX CRS-2</td>\n",
       "      <td>4,877 kg</td>\n",
       "      <td>LEO</td>\n",
       "      <td>NASA</td>\n",
       "      <td>Success</td>\n",
       "      <td>No attempt</td>\n",
       "    </tr>\n",
       "    <tr>\n",
       "      <th>...</th>\n",
       "      <td>...</td>\n",
       "      <td>...</td>\n",
       "      <td>...</td>\n",
       "      <td>...</td>\n",
       "      <td>...</td>\n",
       "      <td>...</td>\n",
       "      <td>...</td>\n",
       "      <td>...</td>\n",
       "      <td>...</td>\n",
       "      <td>...</td>\n",
       "      <td>...</td>\n",
       "    </tr>\n",
       "    <tr>\n",
       "      <th>116</th>\n",
       "      <td>117</td>\n",
       "      <td>9 May 2021</td>\n",
       "      <td>06:42</td>\n",
       "      <td>F9 B5B1051.10657</td>\n",
       "      <td>CCSFS</td>\n",
       "      <td>Starlink</td>\n",
       "      <td>15,600 kg</td>\n",
       "      <td>LEO</td>\n",
       "      <td>SpaceX</td>\n",
       "      <td>Success</td>\n",
       "      <td>Success</td>\n",
       "    </tr>\n",
       "    <tr>\n",
       "      <th>117</th>\n",
       "      <td>118</td>\n",
       "      <td>15 May 2021</td>\n",
       "      <td>22:56</td>\n",
       "      <td>F9 B5B1058.8660</td>\n",
       "      <td>KSC</td>\n",
       "      <td>Starlink</td>\n",
       "      <td>~14,000 kg</td>\n",
       "      <td>LEO</td>\n",
       "      <td>SpaceX</td>\n",
       "      <td>Success</td>\n",
       "      <td>Success</td>\n",
       "    </tr>\n",
       "    <tr>\n",
       "      <th>118</th>\n",
       "      <td>119</td>\n",
       "      <td>26 May 2021</td>\n",
       "      <td>18:59</td>\n",
       "      <td>F9 B5B1063.2665</td>\n",
       "      <td>CCSFS</td>\n",
       "      <td>Starlink</td>\n",
       "      <td>15,600 kg</td>\n",
       "      <td>LEO</td>\n",
       "      <td>SpaceX</td>\n",
       "      <td>Success</td>\n",
       "      <td>Success</td>\n",
       "    </tr>\n",
       "    <tr>\n",
       "      <th>119</th>\n",
       "      <td>120</td>\n",
       "      <td>3 June 2021</td>\n",
       "      <td>17:29</td>\n",
       "      <td>F9 B5B1067.1668</td>\n",
       "      <td>KSC</td>\n",
       "      <td>SpaceX CRS-22</td>\n",
       "      <td>3,328 kg</td>\n",
       "      <td>LEO</td>\n",
       "      <td>NASA</td>\n",
       "      <td>Success</td>\n",
       "      <td>Success</td>\n",
       "    </tr>\n",
       "    <tr>\n",
       "      <th>120</th>\n",
       "      <td>121</td>\n",
       "      <td>6 June 2021</td>\n",
       "      <td>04:26</td>\n",
       "      <td>F9 B5</td>\n",
       "      <td>CCSFS</td>\n",
       "      <td>SXM-8</td>\n",
       "      <td>7,000 kg</td>\n",
       "      <td>GTO</td>\n",
       "      <td>Sirius XM</td>\n",
       "      <td>Success</td>\n",
       "      <td>Success</td>\n",
       "    </tr>\n",
       "  </tbody>\n",
       "</table>\n",
       "<p>121 rows × 11 columns</p>\n",
       "</div>"
      ],
      "text/plain": [
       "    Flight No.             Date   Time   Version Booster Launch Site  \\\n",
       "0            1      4 June 2010  18:45  F9 v1.07B0003.18       CCAFS   \n",
       "1            2  8 December 2010  15:43  F9 v1.07B0004.18       CCAFS   \n",
       "2            3      22 May 2012  07:44  F9 v1.07B0005.18       CCAFS   \n",
       "3            4   8 October 2012  00:35  F9 v1.07B0006.18       CCAFS   \n",
       "4            5     1 March 2013  15:10  F9 v1.07B0007.18       CCAFS   \n",
       "..         ...              ...    ...               ...         ...   \n",
       "116        117       9 May 2021  06:42  F9 B5B1051.10657       CCSFS   \n",
       "117        118      15 May 2021  22:56   F9 B5B1058.8660         KSC   \n",
       "118        119      26 May 2021  18:59   F9 B5B1063.2665       CCSFS   \n",
       "119        120      3 June 2021  17:29   F9 B5B1067.1668         KSC   \n",
       "120        121      6 June 2021  04:26             F9 B5       CCSFS   \n",
       "\n",
       "                                  Payload Payload mass Orbit   Customer  \\\n",
       "0    Dragon Spacecraft Qualification Unit            0   LEO     SpaceX   \n",
       "1                                  Dragon            0   LEO       NASA   \n",
       "2                                  Dragon       525 kg   LEO       NASA   \n",
       "3                            SpaceX CRS-1     4,700 kg   LEO       NASA   \n",
       "4                            SpaceX CRS-2     4,877 kg   LEO       NASA   \n",
       "..                                    ...          ...   ...        ...   \n",
       "116                              Starlink    15,600 kg   LEO     SpaceX   \n",
       "117                              Starlink   ~14,000 kg   LEO     SpaceX   \n",
       "118                              Starlink    15,600 kg   LEO     SpaceX   \n",
       "119                         SpaceX CRS-22     3,328 kg   LEO       NASA   \n",
       "120                                 SXM-8     7,000 kg   GTO  Sirius XM   \n",
       "\n",
       "    Launch outcome Booster landing  \n",
       "0          Success         Failure  \n",
       "1          Success         Failure  \n",
       "2          Success      No attempt  \n",
       "3          Success      No attempt  \n",
       "4          Success      No attempt  \n",
       "..             ...             ...  \n",
       "116        Success         Success  \n",
       "117        Success         Success  \n",
       "118        Success         Success  \n",
       "119        Success         Success  \n",
       "120        Success         Success  \n",
       "\n",
       "[121 rows x 11 columns]"
      ]
     },
     "execution_count": 93,
     "metadata": {},
     "output_type": "execute_result"
    }
   ],
   "source": [
    "import requests\n",
    "from bs4 import BeautifulSoup\n",
    "import pandas as pd\n",
    "import unicodedata\n",
    "\n",
    "# Helper functions (unchanged except for extract_column_from_header)\n",
    "def date_time(cell):\n",
    "    \"\"\"Extract date and time from a cell.\"\"\"\n",
    "    return [data_time.strip() for data_time in list(cell.strings)][0:2]\n",
    "\n",
    "def booster_version(cell):\n",
    "    \"\"\"Extract booster version from a cell.\"\"\"\n",
    "    out = ''.join([bv for i, bv in enumerate(cell.strings) if i % 2 == 0][0:-1])\n",
    "    return out\n",
    "\n",
    "def get_mass(cell):\n",
    "    \"\"\"Extract payload mass from a cell.\"\"\"\n",
    "    mass = unicodedata.normalize(\"NFKD\", cell.text).strip()\n",
    "    if mass and \"kg\" in mass:\n",
    "        return mass[:mass.find(\"kg\") + 2]\n",
    "    return \"0\"\n",
    "\n",
    "def landing_status(cell):\n",
    "    \"\"\"Extract landing status from a cell.\"\"\"\n",
    "    return list(cell.strings)[0].strip() if cell.strings else cell.get_text().strip()\n",
    "\n",
    "def extract_column_from_header(row):\n",
    "    \"\"\"Extract column name from a header cell.\"\"\"\n",
    "    if row.br:\n",
    "        row.br.extract()\n",
    "    if row.a:\n",
    "        row.a.extract()\n",
    "    if row.sup:\n",
    "        row.sup.extract()\n",
    "    # Convert all contents to text before joining\n",
    "    col_name = ' '.join(item.get_text().strip() if hasattr(item, 'get_text') else str(item).strip() for item in row.contents)\n",
    "    return col_name if col_name and not col_name.isdigit() else None\n",
    "\n",
    "# URL and headers to fetch the page\n",
    "url = \"https://en.wikipedia.org/w/index.php?title=List_of_Falcon_9_and_Falcon_Heavy_launches&oldid=1027686922\"\n",
    "headers = {\"User-Agent\": \"Mozilla/5.0 (Windows NT 10.0; Win64; x64) AppleWebKit/537.36 (KHTML, like Gecko) Chrome/91.0.4472.124 Safari/537.36\"}\n",
    "\n",
    "# Fetch and parse the webpage\n",
    "response = requests.get(url, headers=headers)\n",
    "soup = BeautifulSoup(response.text, 'html.parser')\n",
    "\n",
    "# Initialize dictionary to store data\n",
    "launch_dict = {\n",
    "    'Flight No.': [], 'Date': [], 'Time': [], 'Version Booster': [],\n",
    "    'Launch Site': [], 'Payload': [], 'Payload mass': [], 'Orbit': [],\n",
    "    'Customer': [], 'Launch outcome': [], 'Booster landing': []\n",
    "}\n",
    "\n",
    "# Find all launch tables\n",
    "tables = soup.find_all('table', class_='wikitable plainrowheaders collapsible')\n",
    "\n",
    "# Loop through each table\n",
    "for table in tables:\n",
    "    # Get column names from the first row (for verification)\n",
    "    headers = [extract_column_from_header(th) for th in table.find('tr').find_all('th')]\n",
    "    headers = [h for h in headers if h]  # Keep non-empty headers\n",
    "    \n",
    "    # Loop through each row in the table\n",
    "    for row in table.find_all('tr'):\n",
    "        # Check if row has a flight number (in <th> and numeric)\n",
    "        if row.th and row.th.string and row.th.string.strip().isdigit():\n",
    "            flight_number = row.th.string.strip()\n",
    "            cells = row.find_all('td')  # Get all cells\n",
    "            \n",
    "            # Only process rows with enough cells\n",
    "            if len(cells) >= 9:\n",
    "                # Flight Number\n",
    "                launch_dict['Flight No.'].append(flight_number)\n",
    "                \n",
    "                # Date and Time\n",
    "                dt = date_time(cells[0])\n",
    "                launch_dict['Date'].append(dt[0].strip(','))\n",
    "                launch_dict['Time'].append(dt[1])\n",
    "                \n",
    "                # Booster Version\n",
    "                bv = booster_version(cells[1]) or (cells[1].a.string if cells[1].a and cells[1].a.string else cells[1].get_text().strip())\n",
    "                launch_dict['Version Booster'].append(bv.split('[')[0].split('♺')[0].strip())\n",
    "                \n",
    "                # Launch Site\n",
    "                launch_dict['Launch Site'].append(cells[2].a.get_text().strip() if cells[2].a else cells[2].get_text().strip())\n",
    "                \n",
    "                # Payload\n",
    "                launch_dict['Payload'].append(cells[3].a.get_text().strip() if cells[3].a else cells[3].get_text().strip())\n",
    "                \n",
    "                # Payload Mass\n",
    "                launch_dict['Payload mass'].append(get_mass(cells[4]))\n",
    "                \n",
    "                # Orbit\n",
    "                launch_dict['Orbit'].append(cells[5].a.get_text().strip() if cells[5].a else cells[5].get_text().strip())\n",
    "                \n",
    "                # Customer\n",
    "                launch_dict['Customer'].append(cells[6].a.get_text().strip() if cells[6].a else cells[6].get_text().strip() or 'Unknown')\n",
    "                \n",
    "                # Launch Outcome\n",
    "                launch_dict['Launch outcome'].append(list(cells[7].strings)[0].strip() if cells[7].strings else cells[7].get_text().strip())\n",
    "                \n",
    "                # Booster Landing\n",
    "                launch_dict['Booster landing'].append(landing_status(cells[8]))\n",
    "\n",
    "# Create DataFrame\n",
    "df = pd.DataFrame({key: pd.Series(value, dtype='object') for key, value in launch_dict.items()})\n",
    "\n",
    "# Show the first few rows\n",
    "df"
   ]
  },
  {
   "cell_type": "code",
   "execution_count": null,
   "id": "08cbdcb2",
   "metadata": {},
   "outputs": [
    {
     "name": "stdout",
     "output_type": "stream",
     "text": [
      "Status Code: 200\n"
     ]
    }
   ],
   "source": [
    "# step by step to get dataFrame\n",
    "# Define URL and headers\n",
    "url = \"https://en.wikipedia.org/w/index.php?title=List_of_Falcon_9_and_Falcon_Heavy_launches&oldid=1027686922\"\n",
    "headers = {\"User-Agent\": \"Mozilla/5.0 (Windows NT 10.0; Win64; x64) AppleWebKit/537.36 (KHTML, like Gecko) Chrome/91.0.4472.124 Safari/537.36\"}\n",
    "\n",
    "# Fetch the page\n",
    "response = requests.get(url, headers=headers)\n",
    "\n",
    "# Check if successful (status code 200 means OK)\n",
    "print(\"Status Code:\", response.status_code)  # For debugging\n",
    "\n",
    "# Pharse with Beautiful Soup\n",
    "soup = BeautifulSoup(response.text, 'html.parser')\n",
    "\n",
    "\n"
   ]
  },
  {
   "cell_type": "code",
   "execution_count": 99,
   "id": "3cff3c1f",
   "metadata": {},
   "outputs": [
    {
     "name": "stdout",
     "output_type": "stream",
     "text": [
      "<table class=\"wikitable plainrowheaders collapsible\" style=\"width: 100%;\">\n",
      "<tbody><tr>\n",
      "<th scope=\"col\">Flight No.\n",
      "</th>\n",
      "<th scope=\"col\">Date and<br/>time (<a href=\"/wiki/Coordinated_Universal_Time\" title=\"Coordinated Universal Time\">UTC</a>)\n",
      "</th>\n",
      "<th scope=\"col\"><a href=\"/wiki/List_of_Falcon_9_first-stage_boosters\" title=\"List of Falcon 9 first-stage boosters\">Version,<br/>Booster</a> <sup class=\"reference\" id=\"cite_ref-booster_11-0\"><a href=\"#cite_note-booster-11\"><span class=\"cite-bracket\">[</span>b<span class=\"cite-bracket\">]</span></a></sup>\n",
      "</th>\n",
      "<th scope=\"col\">Launch site\n",
      "</th>\n",
      "<th scope=\"col\">Payload<sup class=\"reference\" id=\"cite_ref-Dragon_12-0\"><a href=\"#cite_note-Dragon-12\"><span class=\"cite-bracket\">[</span>c<span class=\"cite-bracket\">]</span></a></sup>\n",
      "</th>\n",
      "<th scope=\"col\">Payload mass\n",
      "</th>\n",
      "<th scope=\"col\">Orbit\n",
      "</th>\n",
      "<th scope=\"col\">Customer\n",
      "</th>\n",
      "<th scope=\"col\">Launch<br/>outcome\n",
      "</th>\n",
      "<th scope=\"col\"><a href=\"/wiki/Falcon_9_first-stage_landing_tests\" title=\"Falcon 9 first-stage landing tests\">Booster<br/>landing</a>\n",
      "</th></tr>\n",
      "<tr>\n",
      "<th rowspan=\"2\" scope=\"row\" style=\"text-align:center;\">1\n",
      "</th>\n",
      "<td>4 June 2010,<br/>18:45\n",
      "</td>\n",
      "<td><a href=\"/wiki/Falcon_9_v1.0\" title=\"Falcon 9 v1.0\">F9 v1.0</a><sup class=\"reference\" id=\"cite_ref-MuskMay2012_13-0\"><a href=\"#cite_note-MuskMay2012-13\"><span class=\"cite-bracket\">[</span>7<span class=\"cite-bracket\">]</span></a></sup><br/>B0003.1<sup class=\"reference\" id=\"cite_ref-block_numbers_14-0\"><a href=\"#cite_note-block_numbers-14\"><span class=\"cite-bracket\">[</span>8<span class=\"cite-bracket\">]</span></a></sup>\n",
      "</td>\n",
      "<td><a href=\"/wiki/Cape_Canaveral_Space_Force_Station\" title=\"Cape Canaveral Space Force Station\">CCAFS</a>,<br/><a href=\"/wiki/Cape_Canaveral_Space_Launch_Complex_40\" title=\"Cape Canaveral Space Launch Complex 40\">SLC-40</a>\n",
      "</td>\n",
      "<td><a href=\"/wiki/Dragon_Spacecraft_Qualification_Unit\" title=\"Dragon Spacecraft Qualification Unit\">Dragon Spacecraft Qualification Unit</a>\n",
      "</td>\n",
      "<td>\n",
      "</td>\n",
      "<td><a href=\"/wiki/Low_Earth_orbit\" title=\"Low Earth orbit\">LEO</a>\n",
      "</td>\n",
      "<td><a href=\"/wiki/SpaceX\" title=\"SpaceX\">SpaceX</a>\n",
      "</td>\n",
      "<td class=\"table-success\" style=\"background: #9EFF9E; color:black; vertical-align: middle; text-align: center;\">Success\n",
      "</td>\n",
      "<td class=\"table-failure\" style=\"background: #FFC7C7; color:black; vertical-align: middle; text-align: center;\">Failure<sup class=\"reference\" id=\"cite_ref-ns20110930_15-0\"><a href=\"#cite_note-ns20110930-15\"><span class=\"cite-bracket\">[</span>9<span class=\"cite-bracket\">]</span></a></sup><sup class=\"reference\" id=\"cite_ref-16\"><a href=\"#cite_note-16\"><span class=\"cite-bracket\">[</span>10<span class=\"cite-bracket\">]</span></a></sup><br/><small>(parachute)</small>\n",
      "</td></tr>\n",
      "<tr>\n",
      "<td colspan=\"9\">First flight of Falcon 9 v1.0.<sup class=\"reference\" id=\"cite_ref-sfn20100604_17-0\"><a href=\"#cite_note-sfn20100604-17\"><span class=\"cite-bracket\">[</span>11<span class=\"cite-bracket\">]</span></a></sup> Used a boilerplate version of Dragon capsule which was not designed to separate from the second stage.<small>(<a href=\"#First_flight_of_Falcon_9\">more details below</a>)</small> Attempted to recover the first stage by parachuting it into the ocean, but it burned up on reentry, before the parachutes even deployed.<sup class=\"reference\" id=\"cite_ref-parachute_18-0\"><a href=\"#cite_note-parachute-18\"><span class=\"cite-bracket\">[</span>12<span class=\"cite-bracket\">]</span></a></sup>\n",
      "</td></tr>\n",
      "<tr>\n",
      "<th rowspan=\"2\" scope=\"row\" style=\"text-align:center;\">2\n",
      "</th>\n",
      "<td>8 December 2010,<br/>15:43<sup class=\"reference\" id=\"cite_ref-spaceflightnow_Clark_Launch_Report_19-0\"><a href=\"#cite_note-spaceflightnow_Clark_Launch_Report-19\"><span class=\"cite-bracket\">[</span>13<span class=\"cite-bracket\">]</span></a></sup>\n",
      "</td>\n",
      "<td><a href=\"/wiki/Falcon_9_v1.0\" title=\"Falcon 9 v1.0\">F9 v1.0</a><sup class=\"reference\" id=\"cite_ref-MuskMay2012_13-1\"><a href=\"#cite_note-MuskMay2012-13\"><span class=\"cite-bracket\">[</span>7<span class=\"cite-bracket\">]</span></a></sup><br/>B0004.1<sup class=\"reference\" id=\"cite_ref-block_numbers_14-1\"><a href=\"#cite_note-block_numbers-14\"><span class=\"cite-bracket\">[</span>8<span class=\"cite-bracket\">]</span></a></sup>\n",
      "</td>\n",
      "<td><a href=\"/wiki/Cape_Canaveral_Space_Force_Station\" title=\"Cape Canaveral Space Force Station\">CCAFS</a>,<br/><a href=\"/wiki/Cape_Canaveral_Space_Launch_Complex_40\" title=\"Cape Canaveral Space Launch Complex 40\">SLC-40</a>\n",
      "</td>\n",
      "<td><a href=\"/wiki/SpaceX_Dragon\" title=\"SpaceX Dragon\">Dragon</a> <a class=\"mw-redirect\" href=\"/wiki/COTS_Demo_Flight_1\" title=\"COTS Demo Flight 1\">demo flight C1</a><br/>(Dragon C101)\n",
      "</td>\n",
      "<td>\n",
      "</td>\n",
      "<td><a href=\"/wiki/Low_Earth_orbit\" title=\"Low Earth orbit\">LEO</a> (<a href=\"/wiki/International_Space_Station\" title=\"International Space Station\">ISS</a>)\n",
      "</td>\n",
      "<td><style data-mw-deduplicate=\"TemplateStyles:r1126788409\">.mw-parser-output .plainlist ol,.mw-parser-output .plainlist ul{line-height:inherit;list-style:none;margin:0;padding:0}.mw-parser-output .plainlist ol li,.mw-parser-output .plainlist ul li{margin-bottom:0}</style><div class=\"plainlist\">\n",
      "<ul><li><a href=\"/wiki/NASA\" title=\"NASA\">NASA</a> (<a href=\"/wiki/Commercial_Orbital_Transportation_Services\" title=\"Commercial Orbital Transportation Services\">COTS</a>)</li>\n",
      "<li><a href=\"/wiki/National_Reconnaissance_Office\" title=\"National Reconnaissance Office\">NRO</a></li></ul>\n",
      "</div>\n",
      "</td>\n",
      "<td class=\"table-success\" style=\"background: #9EFF9E; color:black; vertical-align: middle; text-align: center;\">Success<sup class=\"reference\" id=\"cite_ref-ns20110930_15-1\"><a href=\"#cite_note-ns20110930-15\"><span class=\"cite-bracket\">[</span>9<span class=\"cite-bracket\">]</span></a></sup>\n",
      "</td>\n",
      "<td class=\"table-failure\" style=\"background: #FFC7C7; color:black; vertical-align: middle; text-align: center;\">Failure<sup class=\"reference\" id=\"cite_ref-ns20110930_15-2\"><a href=\"#cite_note-ns20110930-15\"><span class=\"cite-bracket\">[</span>9<span class=\"cite-bracket\">]</span></a></sup><sup class=\"reference\" id=\"cite_ref-20\"><a href=\"#cite_note-20\"><span class=\"cite-bracket\">[</span>14<span class=\"cite-bracket\">]</span></a></sup><br/><small>(parachute)</small>\n",
      "</td></tr>\n",
      "<tr>\n",
      "<td colspan=\"9\">Maiden flight of <a class=\"mw-redirect\" href=\"/wiki/Dragon_capsule\" title=\"Dragon capsule\">Dragon capsule</a>, consisting of over 3 hours of testing thruster maneuvering and reentry.<sup class=\"reference\" id=\"cite_ref-spaceflightnow_Clark_unleashing_Dragon_21-0\"><a href=\"#cite_note-spaceflightnow_Clark_unleashing_Dragon-21\"><span class=\"cite-bracket\">[</span>15<span class=\"cite-bracket\">]</span></a></sup> Attempted to recover the first stage by parachuting it into the ocean, but it disintegrated upon reentry, before the parachutes were deployed.<sup class=\"reference\" id=\"cite_ref-parachute_18-1\"><a href=\"#cite_note-parachute-18\"><span class=\"cite-bracket\">[</span>12<span class=\"cite-bracket\">]</span></a></sup> <small>(<a href=\"#COTS_demo_missions\">more details below</a>)</small> It also included two <a href=\"/wiki/CubeSat\" title=\"CubeSat\">CubeSats</a>,<sup class=\"reference\" id=\"cite_ref-NRO_Taps_Boeing_for_Next_Batch_of_CubeSats_22-0\"><a href=\"#cite_note-NRO_Taps_Boeing_for_Next_Batch_of_CubeSats-22\"><span class=\"cite-bracket\">[</span>16<span class=\"cite-bracket\">]</span></a></sup> and a wheel of <a href=\"/wiki/Brou%C3%A8re\" title=\"Brouère\">Brouère</a> cheese.\n",
      "</td></tr>\n",
      "<tr>\n",
      "<th rowspan=\"2\" scope=\"row\" style=\"text-align:center;\">3\n",
      "</th>\n",
      "<td>22 May 2012,<br/>07:44<sup class=\"reference\" id=\"cite_ref-BBC_new_era_23-0\"><a href=\"#cite_note-BBC_new_era-23\"><span class=\"cite-bracket\">[</span>17<span class=\"cite-bracket\">]</span></a></sup>\n",
      "</td>\n",
      "<td><a href=\"/wiki/Falcon_9_v1.0\" title=\"Falcon 9 v1.0\">F9 v1.0</a><sup class=\"reference\" id=\"cite_ref-MuskMay2012_13-2\"><a href=\"#cite_note-MuskMay2012-13\"><span class=\"cite-bracket\">[</span>7<span class=\"cite-bracket\">]</span></a></sup><br/>B0005.1<sup class=\"reference\" id=\"cite_ref-block_numbers_14-2\"><a href=\"#cite_note-block_numbers-14\"><span class=\"cite-bracket\">[</span>8<span class=\"cite-bracket\">]</span></a></sup>\n",
      "</td>\n",
      "<td><a href=\"/wiki/Cape_Canaveral_Space_Force_Station\" title=\"Cape Canaveral Space Force Station\">CCAFS</a>,<br/><a href=\"/wiki/Cape_Canaveral_Space_Launch_Complex_40\" title=\"Cape Canaveral Space Launch Complex 40\">SLC-40</a>\n",
      "</td>\n",
      "<td><a href=\"/wiki/SpaceX_Dragon\" title=\"SpaceX Dragon\">Dragon</a> <a class=\"mw-redirect\" href=\"/wiki/Dragon_C2%2B\" title=\"Dragon C2+\">demo flight C2+</a><sup class=\"reference\" id=\"cite_ref-C2_24-0\"><a href=\"#cite_note-C2-24\"><span class=\"cite-bracket\">[</span>18<span class=\"cite-bracket\">]</span></a></sup><br/>(Dragon C102)\n",
      "</td>\n",
      "<td>525 kg (1,157 lb)<sup class=\"reference\" id=\"cite_ref-25\"><a href=\"#cite_note-25\"><span class=\"cite-bracket\">[</span>19<span class=\"cite-bracket\">]</span></a></sup>\n",
      "</td>\n",
      "<td><a href=\"/wiki/Low_Earth_orbit\" title=\"Low Earth orbit\">LEO</a> (<a href=\"/wiki/International_Space_Station\" title=\"International Space Station\">ISS</a>)\n",
      "</td>\n",
      "<td><a href=\"/wiki/NASA\" title=\"NASA\">NASA</a> (<a href=\"/wiki/Commercial_Orbital_Transportation_Services\" title=\"Commercial Orbital Transportation Services\">COTS</a>)\n",
      "</td>\n",
      "<td class=\"table-success\" style=\"background: #9EFF9E; color:black; vertical-align: middle; text-align: center;\">Success<sup class=\"reference\" id=\"cite_ref-26\"><a href=\"#cite_note-26\"><span class=\"cite-bracket\">[</span>20<span class=\"cite-bracket\">]</span></a></sup>\n",
      "</td>\n",
      "<td class=\"table-noAttempt\" style=\"background: #EEE; color:black; vertical-align: middle; white-space: nowrap; text-align: center;\">No attempt\n",
      "</td></tr>\n",
      "<tr>\n",
      "<td colspan=\"9\">Dragon spacecraft demonstrated a series of tests before it was allowed to approach the <a href=\"/wiki/International_Space_Station\" title=\"International Space Station\">International Space Station</a>. Two days later, it became the first commercial spacecraft to board the ISS.<sup class=\"reference\" id=\"cite_ref-BBC_new_era_23-1\"><a href=\"#cite_note-BBC_new_era-23\"><span class=\"cite-bracket\">[</span>17<span class=\"cite-bracket\">]</span></a></sup> <small>(<a href=\"#COTS_demo_missions\">more details below</a>)</small>\n",
      "</td></tr>\n",
      "<tr>\n",
      "<th rowspan=\"3\" scope=\"row\" style=\"text-align:center;\">4\n",
      "</th>\n",
      "<td rowspan=\"2\">8 October 2012,<br/>00:35<sup class=\"reference\" id=\"cite_ref-SFN_LLog_27-0\"><a href=\"#cite_note-SFN_LLog-27\"><span class=\"cite-bracket\">[</span>21<span class=\"cite-bracket\">]</span></a></sup>\n",
      "</td>\n",
      "<td rowspan=\"2\"><a href=\"/wiki/Falcon_9_v1.0\" title=\"Falcon 9 v1.0\">F9 v1.0</a><sup class=\"reference\" id=\"cite_ref-MuskMay2012_13-3\"><a href=\"#cite_note-MuskMay2012-13\"><span class=\"cite-bracket\">[</span>7<span class=\"cite-bracket\">]</span></a></sup><br/>B0006.1<sup class=\"reference\" id=\"cite_ref-block_numbers_14-3\"><a href=\"#cite_note-block_numbers-14\"><span class=\"cite-bracket\">[</span>8<span class=\"cite-bracket\">]</span></a></sup>\n",
      "</td>\n",
      "<td rowspan=\"2\"><a href=\"/wiki/Cape_Canaveral_Space_Force_Station\" title=\"Cape Canaveral Space Force Station\">CCAFS</a>,<br/><a href=\"/wiki/Cape_Canaveral_Space_Launch_Complex_40\" title=\"Cape Canaveral Space Launch Complex 40\">SLC-40</a>\n",
      "</td>\n",
      "<td><a href=\"/wiki/SpaceX_CRS-1\" title=\"SpaceX CRS-1\">SpaceX CRS-1</a><sup class=\"reference\" id=\"cite_ref-sxManifest20120925_28-0\"><a href=\"#cite_note-sxManifest20120925-28\"><span class=\"cite-bracket\">[</span>22<span class=\"cite-bracket\">]</span></a></sup><br/>(Dragon C103)\n",
      "</td>\n",
      "<td>4,700 kg (10,400 lb)\n",
      "</td>\n",
      "<td><a href=\"/wiki/Low_Earth_orbit\" title=\"Low Earth orbit\">LEO</a> (<a href=\"/wiki/International_Space_Station\" title=\"International Space Station\">ISS</a>)\n",
      "</td>\n",
      "<td><a href=\"/wiki/NASA\" title=\"NASA\">NASA</a> (<a href=\"/wiki/Commercial_Resupply_Services\" title=\"Commercial Resupply Services\">CRS</a>)\n",
      "</td>\n",
      "<td class=\"table-success\" style=\"background: #9EFF9E; color:black; vertical-align: middle; text-align: center;\">Success\n",
      "</td>\n",
      "<td rowspan=\"2\" style=\"background:#ececec; text-align:center;\"><span class=\"nowrap\">No attempt</span>\n",
      "</td></tr>\n",
      "<tr>\n",
      "<td><a href=\"/wiki/Orbcomm_(satellite)\" title=\"Orbcomm (satellite)\">Orbcomm-OG2</a><sup class=\"reference\" id=\"cite_ref-Orbcomm_29-0\"><a href=\"#cite_note-Orbcomm-29\"><span class=\"cite-bracket\">[</span>23<span class=\"cite-bracket\">]</span></a></sup>\n",
      "</td>\n",
      "<td>172 kg (379 lb)<sup class=\"reference\" id=\"cite_ref-gunter-og2_30-0\"><a href=\"#cite_note-gunter-og2-30\"><span class=\"cite-bracket\">[</span>24<span class=\"cite-bracket\">]</span></a></sup>\n",
      "</td>\n",
      "<td><a href=\"/wiki/Low_Earth_orbit\" title=\"Low Earth orbit\">LEO</a>\n",
      "</td>\n",
      "<td><a href=\"/wiki/Orbcomm\" title=\"Orbcomm\">Orbcomm</a>\n",
      "</td>\n",
      "<td class=\"table-partial\" style=\"background: #FFB; color:black; vertical-align: middle; text-align: center;\">Partial failure<sup class=\"reference\" id=\"cite_ref-nyt-20121030_31-0\"><a href=\"#cite_note-nyt-20121030-31\"><span class=\"cite-bracket\">[</span>25<span class=\"cite-bracket\">]</span></a></sup>\n",
      "</td></tr>\n",
      "<tr>\n",
      "<td colspan=\"9\">CRS-1 was successful, but the <a href=\"/wiki/Secondary_payload\" title=\"Secondary payload\">secondary payload</a> was inserted into an abnormally low orbit and subsequently lost. This was due to one of the nine <a href=\"/wiki/SpaceX_Merlin\" title=\"SpaceX Merlin\">Merlin engines</a> shutting down during the launch, and NASA declining a second reignition, as per <a href=\"/wiki/International_Space_Station\" title=\"International Space Station\">ISS</a> visiting vehicle safety rules, the primary payload owner is contractually allowed to decline a second reignition. NASA stated that this was because SpaceX could not guarantee a high enough likelihood of the second stage completing the second burn successfully which was required to avoid any risk of secondary payload's collision with the ISS.<sup class=\"reference\" id=\"cite_ref-OrbcommTotalLoss_32-0\"><a href=\"#cite_note-OrbcommTotalLoss-32\"><span class=\"cite-bracket\">[</span>26<span class=\"cite-bracket\">]</span></a></sup><sup class=\"reference\" id=\"cite_ref-sn20121011_33-0\"><a href=\"#cite_note-sn20121011-33\"><span class=\"cite-bracket\">[</span>27<span class=\"cite-bracket\">]</span></a></sup><sup class=\"reference\" id=\"cite_ref-34\"><a href=\"#cite_note-34\"><span class=\"cite-bracket\">[</span>28<span class=\"cite-bracket\">]</span></a></sup>\n",
      "</td></tr>\n",
      "<tr>\n",
      "<th rowspan=\"2\" scope=\"row\" style=\"text-align:center;\">5\n",
      "</th>\n",
      "<td>1 March 2013,<br/>15:10\n",
      "</td>\n",
      "<td><a href=\"/wiki/Falcon_9_v1.0\" title=\"Falcon 9 v1.0\">F9 v1.0</a><sup class=\"reference\" id=\"cite_ref-MuskMay2012_13-4\"><a href=\"#cite_note-MuskMay2012-13\"><span class=\"cite-bracket\">[</span>7<span class=\"cite-bracket\">]</span></a></sup><br/>B0007.1<sup class=\"reference\" id=\"cite_ref-block_numbers_14-4\"><a href=\"#cite_note-block_numbers-14\"><span class=\"cite-bracket\">[</span>8<span class=\"cite-bracket\">]</span></a></sup>\n",
      "</td>\n",
      "<td><a href=\"/wiki/Cape_Canaveral_Space_Force_Station\" title=\"Cape Canaveral Space Force Station\">CCAFS</a>,<br/><a href=\"/wiki/Cape_Canaveral_Space_Launch_Complex_40\" title=\"Cape Canaveral Space Launch Complex 40\">SLC-40</a>\n",
      "</td>\n",
      "<td><a href=\"/wiki/SpaceX_CRS-2\" title=\"SpaceX CRS-2\">SpaceX CRS-2</a><sup class=\"reference\" id=\"cite_ref-sxManifest20120925_28-1\"><a href=\"#cite_note-sxManifest20120925-28\"><span class=\"cite-bracket\">[</span>22<span class=\"cite-bracket\">]</span></a></sup><br/>(Dragon C104)\n",
      "</td>\n",
      "<td>4,877 kg (10,752 lb)\n",
      "</td>\n",
      "<td><a href=\"/wiki/Low_Earth_orbit\" title=\"Low Earth orbit\">LEO</a> (<a class=\"mw-redirect\" href=\"/wiki/ISS\" title=\"ISS\">ISS</a>)\n",
      "</td>\n",
      "<td><a href=\"/wiki/NASA\" title=\"NASA\">NASA</a> (<a href=\"/wiki/Commercial_Resupply_Services\" title=\"Commercial Resupply Services\">CRS</a>)\n",
      "</td>\n",
      "<td class=\"table-success\" style=\"background: #9EFF9E; color:black; vertical-align: middle; text-align: center;\">Success\n",
      "</td>\n",
      "<td class=\"table-noAttempt\" style=\"background: #EEE; color:black; vertical-align: middle; white-space: nowrap; text-align: center;\">No attempt\n",
      "</td></tr>\n",
      "<tr>\n",
      "<td colspan=\"9\">Last launch of the original Falcon 9 v1.0 <a href=\"/wiki/Launch_vehicle\" title=\"Launch vehicle\">launch vehicle</a>, first use of the unpressurized trunk section of Dragon.<sup class=\"reference\" id=\"cite_ref-sxf9_20110321_35-0\"><a href=\"#cite_note-sxf9_20110321-35\"><span class=\"cite-bracket\">[</span>29<span class=\"cite-bracket\">]</span></a></sup>\n",
      "</td></tr>\n",
      "<tr>\n",
      "<th rowspan=\"2\" scope=\"row\" style=\"text-align:center;\">6\n",
      "</th>\n",
      "<td>29 September 2013,<br/>16:00<sup class=\"reference\" id=\"cite_ref-pa20130930_36-0\"><a href=\"#cite_note-pa20130930-36\"><span class=\"cite-bracket\">[</span>30<span class=\"cite-bracket\">]</span></a></sup>\n",
      "</td>\n",
      "<td><a href=\"/wiki/Falcon_9_v1.1\" title=\"Falcon 9 v1.1\">F9 v1.1</a><sup class=\"reference\" id=\"cite_ref-MuskMay2012_13-5\"><a href=\"#cite_note-MuskMay2012-13\"><span class=\"cite-bracket\">[</span>7<span class=\"cite-bracket\">]</span></a></sup><br/>B1003<sup class=\"reference\" id=\"cite_ref-block_numbers_14-5\"><a href=\"#cite_note-block_numbers-14\"><span class=\"cite-bracket\">[</span>8<span class=\"cite-bracket\">]</span></a></sup>\n",
      "</td>\n",
      "<td><a class=\"mw-redirect\" href=\"/wiki/Vandenberg_Air_Force_Base\" title=\"Vandenberg Air Force Base\">VAFB</a>,<br/><a href=\"/wiki/Vandenberg_Space_Launch_Complex_4\" title=\"Vandenberg Space Launch Complex 4\">SLC-4E</a>\n",
      "</td>\n",
      "<td><a href=\"/wiki/CASSIOPE\" title=\"CASSIOPE\">CASSIOPE</a><sup class=\"reference\" id=\"cite_ref-sxManifest20120925_28-2\"><a href=\"#cite_note-sxManifest20120925-28\"><span class=\"cite-bracket\">[</span>22<span class=\"cite-bracket\">]</span></a></sup><sup class=\"reference\" id=\"cite_ref-CASSIOPE_MDA_37-0\"><a href=\"#cite_note-CASSIOPE_MDA-37\"><span class=\"cite-bracket\">[</span>31<span class=\"cite-bracket\">]</span></a></sup>\n",
      "</td>\n",
      "<td>500 kg (1,100 lb)\n",
      "</td>\n",
      "<td><a href=\"/wiki/Polar_orbit\" title=\"Polar orbit\">Polar orbit</a> <a href=\"/wiki/Low_Earth_orbit\" title=\"Low Earth orbit\">LEO</a>\n",
      "</td>\n",
      "<td><a href=\"/wiki/Maxar_Technologies\" title=\"Maxar Technologies\">MDA</a>\n",
      "</td>\n",
      "<td class=\"table-success\" style=\"background: #9EFF9E; color:black; vertical-align: middle; text-align: center;\">Success<sup class=\"reference\" id=\"cite_ref-pa20130930_36-1\"><a href=\"#cite_note-pa20130930-36\"><span class=\"cite-bracket\">[</span>30<span class=\"cite-bracket\">]</span></a></sup>\n",
      "</td>\n",
      "<td class=\"table-no2\" style=\"background: #FFE3E3; color: black; vertical-align: middle; text-align: center;\">Uncontrolled<br/><small>(ocean)</small><sup class=\"reference\" id=\"cite_ref-ocean_landing_38-0\"><a href=\"#cite_note-ocean_landing-38\"><span class=\"cite-bracket\">[</span>d<span class=\"cite-bracket\">]</span></a></sup>\n",
      "</td></tr>\n",
      "<tr>\n",
      "<td colspan=\"9\">First commercial mission with a private customer, first launch from Vandenberg, and demonstration flight of Falcon 9 v1.1 with an improved 13-tonne to LEO capacity.<sup class=\"reference\" id=\"cite_ref-sxf9_20110321_35-1\"><a href=\"#cite_note-sxf9_20110321-35\"><span class=\"cite-bracket\">[</span>29<span class=\"cite-bracket\">]</span></a></sup> After separation from the second stage carrying Canadian commercial and scientific satellites, the first stage booster performed a controlled reentry,<sup class=\"reference\" id=\"cite_ref-39\"><a href=\"#cite_note-39\"><span class=\"cite-bracket\">[</span>32<span class=\"cite-bracket\">]</span></a></sup> and an <a href=\"/wiki/Falcon_9_first-stage_landing_tests\" title=\"Falcon 9 first-stage landing tests\">ocean touchdown test</a> for the first time. This provided good test data, even though the booster started rolling as it neared the ocean, leading to the shutdown of the central engine as the roll depleted it of fuel, resulting in a hard impact with the ocean.<sup class=\"reference\" id=\"cite_ref-pa20130930_36-2\"><a href=\"#cite_note-pa20130930-36\"><span class=\"cite-bracket\">[</span>30<span class=\"cite-bracket\">]</span></a></sup> This was the first known attempt of a rocket engine being lit to perform a supersonic retro propulsion, and allowed SpaceX to enter a public-private partnership with <a href=\"/wiki/NASA\" title=\"NASA\">NASA</a> and its Mars entry, descent, and landing technologies research projects.<sup class=\"reference\" id=\"cite_ref-40\"><a href=\"#cite_note-40\"><span class=\"cite-bracket\">[</span>33<span class=\"cite-bracket\">]</span></a></sup> <small>(<a href=\"#Maiden_flight_of_v1.1\">more details below</a>)</small>\n",
      "</td></tr>\n",
      "<tr>\n",
      "<th rowspan=\"2\" scope=\"row\" style=\"text-align:center;\">7\n",
      "</th>\n",
      "<td>3 December 2013,<br/>22:41<sup class=\"reference\" id=\"cite_ref-sfn_wwls20130624_41-0\"><a href=\"#cite_note-sfn_wwls20130624-41\"><span class=\"cite-bracket\">[</span>34<span class=\"cite-bracket\">]</span></a></sup>\n",
      "</td>\n",
      "<td><a href=\"/wiki/Falcon_9_v1.1\" title=\"Falcon 9 v1.1\">F9 v1.1</a><br/>B1004\n",
      "</td>\n",
      "<td><a href=\"/wiki/Cape_Canaveral_Space_Force_Station\" title=\"Cape Canaveral Space Force Station\">CCAFS</a>,<br/><a href=\"/wiki/Cape_Canaveral_Space_Launch_Complex_40\" title=\"Cape Canaveral Space Launch Complex 40\">SLC-40</a>\n",
      "</td>\n",
      "<td><a href=\"/wiki/SES-8\" title=\"SES-8\">SES-8</a><sup class=\"reference\" id=\"cite_ref-sxManifest20120925_28-3\"><a href=\"#cite_note-sxManifest20120925-28\"><span class=\"cite-bracket\">[</span>22<span class=\"cite-bracket\">]</span></a></sup><sup class=\"reference\" id=\"cite_ref-spx-pr_42-0\"><a href=\"#cite_note-spx-pr-42\"><span class=\"cite-bracket\">[</span>35<span class=\"cite-bracket\">]</span></a></sup><sup class=\"reference\" id=\"cite_ref-aw20110323_43-0\"><a href=\"#cite_note-aw20110323-43\"><span class=\"cite-bracket\">[</span>36<span class=\"cite-bracket\">]</span></a></sup>\n",
      "</td>\n",
      "<td>3,170 kg (6,990 lb)\n",
      "</td>\n",
      "<td><a href=\"/wiki/Geostationary_transfer_orbit\" title=\"Geostationary transfer orbit\">GTO</a>\n",
      "</td>\n",
      "<td><a class=\"mw-redirect\" href=\"/wiki/SES_S.A.\" title=\"SES S.A.\">SES</a>\n",
      "</td>\n",
      "<td class=\"table-success\" style=\"background: #9EFF9E; color:black; vertical-align: middle; text-align: center;\">Success<sup class=\"reference\" id=\"cite_ref-SNMissionStatus7_44-0\"><a href=\"#cite_note-SNMissionStatus7-44\"><span class=\"cite-bracket\">[</span>37<span class=\"cite-bracket\">]</span></a></sup>\n",
      "</td>\n",
      "<td class=\"table-noAttempt\" style=\"background: #EEE; color:black; vertical-align: middle; white-space: nowrap; text-align: center;\">No attempt<br/><sup class=\"reference\" id=\"cite_ref-sf10120131203_45-0\"><a href=\"#cite_note-sf10120131203-45\"><span class=\"cite-bracket\">[</span>38<span class=\"cite-bracket\">]</span></a></sup>\n",
      "</td></tr>\n",
      "<tr>\n",
      "<td colspan=\"9\">First <a href=\"/wiki/Geostationary_transfer_orbit\" title=\"Geostationary transfer orbit\">Geostationary transfer orbit</a> (GTO) launch for Falcon 9,<sup class=\"reference\" id=\"cite_ref-spx-pr_42-1\"><a href=\"#cite_note-spx-pr-42\"><span class=\"cite-bracket\">[</span>35<span class=\"cite-bracket\">]</span></a></sup> and first successful reignition of the second stage.<sup class=\"reference\" id=\"cite_ref-46\"><a href=\"#cite_note-46\"><span class=\"cite-bracket\">[</span>39<span class=\"cite-bracket\">]</span></a></sup> SES-8 was inserted into a <a href=\"/wiki/Geostationary_transfer_orbit\" title=\"Geostationary transfer orbit\">Super-Synchronous Transfer Orbit</a> of 79,341 km (49,300 mi) in apogee with an <a href=\"/wiki/Orbital_inclination\" title=\"Orbital inclination\">inclination</a> of 20.55° to the <a href=\"/wiki/Equator\" title=\"Equator\">equator</a>.\n",
      "</td></tr></tbody></table>\n"
     ]
    }
   ],
   "source": [
    "# Find all matching tables --> this returns a list\n",
    "tables = soup.find_all('table', class_ ='wikitable plainrowheaders collapsible')\n",
    "\n",
    "# Manually pick the first talbe (index 0)\n",
    "launch_table = tables[0]\n",
    "print(launch_table)"
   ]
  },
  {
   "cell_type": "markdown",
   "id": "b16a2995",
   "metadata": {},
   "source": [
    "## Extract column Headers \n",
    " - Get the headers from the first row of the table to understand the structure \n",
    " - Find the firs `<tr>` = row and then all the header cell = `<th>`"
   ]
  },
  {
   "cell_type": "code",
   "execution_count": 101,
   "id": "7b4db4d5",
   "metadata": {},
   "outputs": [
    {
     "data": {
      "text/plain": [
       "<tr>\n",
       "<th scope=\"col\">Flight No.\n",
       "</th>\n",
       "<th scope=\"col\">Date and<br/>time (<a href=\"/wiki/Coordinated_Universal_Time\" title=\"Coordinated Universal Time\">UTC</a>)\n",
       "</th>\n",
       "<th scope=\"col\"><a href=\"/wiki/List_of_Falcon_9_first-stage_boosters\" title=\"List of Falcon 9 first-stage boosters\">Version,<br/>Booster</a> <sup class=\"reference\" id=\"cite_ref-booster_11-0\"><a href=\"#cite_note-booster-11\"><span class=\"cite-bracket\">[</span>b<span class=\"cite-bracket\">]</span></a></sup>\n",
       "</th>\n",
       "<th scope=\"col\">Launch site\n",
       "</th>\n",
       "<th scope=\"col\">Payload<sup class=\"reference\" id=\"cite_ref-Dragon_12-0\"><a href=\"#cite_note-Dragon-12\"><span class=\"cite-bracket\">[</span>c<span class=\"cite-bracket\">]</span></a></sup>\n",
       "</th>\n",
       "<th scope=\"col\">Payload mass\n",
       "</th>\n",
       "<th scope=\"col\">Orbit\n",
       "</th>\n",
       "<th scope=\"col\">Customer\n",
       "</th>\n",
       "<th scope=\"col\">Launch<br/>outcome\n",
       "</th>\n",
       "<th scope=\"col\"><a href=\"/wiki/Falcon_9_first-stage_landing_tests\" title=\"Falcon 9 first-stage landing tests\">Booster<br/>landing</a>\n",
       "</th></tr>"
      ]
     },
     "execution_count": 101,
     "metadata": {},
     "output_type": "execute_result"
    }
   ],
   "source": [
    "# Get the header row (first <tr> in the table)\n",
    "header_row = launch_table.find('tr')  # Finds the first row\n",
    "header_row"
   ]
  },
  {
   "cell_type": "code",
   "execution_count": 113,
   "id": "8a12db8e",
   "metadata": {},
   "outputs": [
    {
     "data": {
      "text/plain": [
       "'Date andtime (UTC)\\n'"
      ]
     },
     "execution_count": 113,
     "metadata": {},
     "output_type": "execute_result"
    }
   ],
   "source": [
    "#Manually extract text from each <th> (we know there are 10 headers, but list a few for example)\n",
    "headers = []  # Empty list to store headers\n",
    "header_cells = header_row.find_all('th')  # All <th> in the row\n",
    "header_cells[1].get_text()"
   ]
  },
  {
   "cell_type": "code",
   "execution_count": 111,
   "id": "5bd736c0",
   "metadata": {},
   "outputs": [
    {
     "name": "stdout",
     "output_type": "stream",
     "text": [
      "Sample Headers: ['Flight No.', 'Date and time ( UTC )']\n"
     ]
    }
   ],
   "source": [
    "# Extract text one by one (no loop: explicit for teaching)\n",
    "if len(header_cells) > 0:\n",
    "    headers.append(header_cells[0].get_text(\" \").strip())  # Flight No.\n",
    "if len(header_cells) > 1:\n",
    "    headers.append(header_cells[1].get_text(\" \").strip())  # Date and time (UTC)\n",
    "# ... (you can continue for all, but for brevity, we'll stop here)\n",
    "\n",
    "print(\"Sample Headers:\", headers)  # Output: ['Flight No.', 'Date and time ( UTC )', ...]"
   ]
  },
  {
   "cell_type": "markdown",
   "id": "3c61672c",
   "metadata": {},
   "source": [
    "### Step 7: Find the First Data Row\n",
    "Skip the header row and get the first data row (the second <tr> in the table).\n",
    "\n",
    "Data rows have `<th>` for Flight No. and `<td>` for other cells."
   ]
  },
  {
   "cell_type": "code",
   "execution_count": 118,
   "id": "a9a16b80",
   "metadata": {},
   "outputs": [
    {
     "name": "stdout",
     "output_type": "stream",
     "text": [
      "<bound method PageElement.get_text of <tr>\n",
      "<th rowspan=\"2\" scope=\"row\" style=\"text-align:center;\">1\n",
      "</th>\n",
      "<td>4 June 2010,<br/>18:45\n",
      "</td>\n",
      "<td><a href=\"/wiki/Falcon_9_v1.0\" title=\"Falcon 9 v1.0\">F9 v1.0</a><sup class=\"reference\" id=\"cite_ref-MuskMay2012_13-0\"><a href=\"#cite_note-MuskMay2012-13\"><span class=\"cite-bracket\">[</span>7<span class=\"cite-bracket\">]</span></a></sup><br/>B0003.1<sup class=\"reference\" id=\"cite_ref-block_numbers_14-0\"><a href=\"#cite_note-block_numbers-14\"><span class=\"cite-bracket\">[</span>8<span class=\"cite-bracket\">]</span></a></sup>\n",
      "</td>\n",
      "<td><a href=\"/wiki/Cape_Canaveral_Space_Force_Station\" title=\"Cape Canaveral Space Force Station\">CCAFS</a>,<br/><a href=\"/wiki/Cape_Canaveral_Space_Launch_Complex_40\" title=\"Cape Canaveral Space Launch Complex 40\">SLC-40</a>\n",
      "</td>\n",
      "<td><a href=\"/wiki/Dragon_Spacecraft_Qualification_Unit\" title=\"Dragon Spacecraft Qualification Unit\">Dragon Spacecraft Qualification Unit</a>\n",
      "</td>\n",
      "<td>\n",
      "</td>\n",
      "<td><a href=\"/wiki/Low_Earth_orbit\" title=\"Low Earth orbit\">LEO</a>\n",
      "</td>\n",
      "<td><a href=\"/wiki/SpaceX\" title=\"SpaceX\">SpaceX</a>\n",
      "</td>\n",
      "<td class=\"table-success\" style=\"background: #9EFF9E; color:black; vertical-align: middle; text-align: center;\">Success\n",
      "</td>\n",
      "<td class=\"table-failure\" style=\"background: #FFC7C7; color:black; vertical-align: middle; text-align: center;\">Failure<sup class=\"reference\" id=\"cite_ref-ns20110930_15-0\"><a href=\"#cite_note-ns20110930-15\"><span class=\"cite-bracket\">[</span>9<span class=\"cite-bracket\">]</span></a></sup><sup class=\"reference\" id=\"cite_ref-16\"><a href=\"#cite_note-16\"><span class=\"cite-bracket\">[</span>10<span class=\"cite-bracket\">]</span></a></sup><br/><small>(parachute)</small>\n",
      "</td></tr>>\n"
     ]
    }
   ],
   "source": [
    "# Get all rows in the table\n",
    "all_rows = launch_table.find_all('tr')\n",
    "\n",
    "\n",
    "# Manually pick the first data row (index 1, since index 0 is header)\n",
    "first_data_row = all_rows[1]\n",
    "print(first_data_row.get_text)"
   ]
  },
  {
   "cell_type": "markdown",
   "id": "6ad3a56c",
   "metadata": {},
   "source": [
    "### Step 8: Extract the Flight Number\n",
    "The Flight No. is in the `<th>` of the data row (it's the row header)."
   ]
  },
  {
   "cell_type": "code",
   "execution_count": 122,
   "id": "4c9d169e",
   "metadata": {},
   "outputs": [
    {
     "data": {
      "text/plain": [
       "<th rowspan=\"2\" scope=\"row\" style=\"text-align:center;\">1\n",
       "</th>"
      ]
     },
     "execution_count": 122,
     "metadata": {},
     "output_type": "execute_result"
    }
   ],
   "source": [
    "# Extract Flight No. from the <th> in the row\n",
    "first_data_row.th\n"
   ]
  },
  {
   "cell_type": "code",
   "execution_count": 123,
   "id": "5cddb536",
   "metadata": {},
   "outputs": [
    {
     "name": "stdout",
     "output_type": "stream",
     "text": [
      "Flight No.: 1\n"
     ]
    }
   ],
   "source": [
    "# Extract Flight No. from the <th> in the row\n",
    "flight_number = first_data_row.th.get_text().strip()\n",
    "print(\"Flight No.:\", flight_number)  # Output: '1'"
   ]
  },
  {
   "cell_type": "markdown",
   "id": "6e78e87f",
   "metadata": {},
   "source": [
    "### Step 9: Extract All Cells from the Row\n",
    " - Get all `<td>` cells in the row (these contain the data).\n",
    "\n",
    " - We know there are 9 cells (based on headers: Date/Time, Booster, Launch Site, etc.)"
   ]
  },
  {
   "cell_type": "code",
   "execution_count": 125,
   "id": "95f606b3",
   "metadata": {},
   "outputs": [
    {
     "data": {
      "text/plain": [
       "<td>4 June 2010,<br/>18:45\n",
       "</td>"
      ]
     },
     "execution_count": 125,
     "metadata": {},
     "output_type": "execute_result"
    }
   ],
   "source": [
    "first_data_row.td\n"
   ]
  },
  {
   "cell_type": "code",
   "execution_count": 129,
   "id": "230d9342",
   "metadata": {},
   "outputs": [
    {
     "data": {
      "text/plain": [
       "[<td>4 June 2010,<br/>18:45\n",
       " </td>,\n",
       " <td><a href=\"/wiki/Falcon_9_v1.0\" title=\"Falcon 9 v1.0\">F9 v1.0</a><sup class=\"reference\" id=\"cite_ref-MuskMay2012_13-0\"><a href=\"#cite_note-MuskMay2012-13\"><span class=\"cite-bracket\">[</span>7<span class=\"cite-bracket\">]</span></a></sup><br/>B0003.1<sup class=\"reference\" id=\"cite_ref-block_numbers_14-0\"><a href=\"#cite_note-block_numbers-14\"><span class=\"cite-bracket\">[</span>8<span class=\"cite-bracket\">]</span></a></sup>\n",
       " </td>,\n",
       " <td><a href=\"/wiki/Cape_Canaveral_Space_Force_Station\" title=\"Cape Canaveral Space Force Station\">CCAFS</a>,<br/><a href=\"/wiki/Cape_Canaveral_Space_Launch_Complex_40\" title=\"Cape Canaveral Space Launch Complex 40\">SLC-40</a>\n",
       " </td>,\n",
       " <td><a href=\"/wiki/Dragon_Spacecraft_Qualification_Unit\" title=\"Dragon Spacecraft Qualification Unit\">Dragon Spacecraft Qualification Unit</a>\n",
       " </td>,\n",
       " <td>\n",
       " </td>,\n",
       " <td><a href=\"/wiki/Low_Earth_orbit\" title=\"Low Earth orbit\">LEO</a>\n",
       " </td>,\n",
       " <td><a href=\"/wiki/SpaceX\" title=\"SpaceX\">SpaceX</a>\n",
       " </td>,\n",
       " <td class=\"table-success\" style=\"background: #9EFF9E; color:black; vertical-align: middle; text-align: center;\">Success\n",
       " </td>,\n",
       " <td class=\"table-failure\" style=\"background: #FFC7C7; color:black; vertical-align: middle; text-align: center;\">Failure<sup class=\"reference\" id=\"cite_ref-ns20110930_15-0\"><a href=\"#cite_note-ns20110930-15\"><span class=\"cite-bracket\">[</span>9<span class=\"cite-bracket\">]</span></a></sup><sup class=\"reference\" id=\"cite_ref-16\"><a href=\"#cite_note-16\"><span class=\"cite-bracket\">[</span>10<span class=\"cite-bracket\">]</span></a></sup><br/><small>(parachute)</small>\n",
       " </td>]"
      ]
     },
     "execution_count": 129,
     "metadata": {},
     "output_type": "execute_result"
    }
   ],
   "source": [
    "first_data_row.find_all('td')"
   ]
  },
  {
   "cell_type": "code",
   "execution_count": 127,
   "id": "4ee9d057",
   "metadata": {},
   "outputs": [],
   "source": [
    "cells = first_data_row.find_all('td')  # List of 9 <td> elements"
   ]
  },
  {
   "cell_type": "markdown",
   "id": "cbbbaf4c",
   "metadata": {},
   "source": [
    "### Step 10: Process Each Cell One by One\n",
    "- Now, extract and process data from each cell manually (no loop). Use helper functions where needed.\n",
    "\n",
    "- Cell 0: Date and Time (use date_time).\n",
    "- Cell 1: Booster Version (use booster_version + cleanup).\n",
    "- Cell 2: Launch Site (prefer <a> link text).\n",
    "- And so on..."
   ]
  },
  {
   "cell_type": "code",
   "execution_count": 137,
   "id": "ae476bba",
   "metadata": {},
   "outputs": [
    {
     "data": {
      "text/plain": [
       "<td>4 June 2010,<br/>18:45\n",
       "</td>"
      ]
     },
     "execution_count": 137,
     "metadata": {},
     "output_type": "execute_result"
    }
   ],
   "source": [
    "cells[0]"
   ]
  },
  {
   "cell_type": "code",
   "execution_count": 138,
   "id": "523d74b9",
   "metadata": {},
   "outputs": [
    {
     "data": {
      "text/plain": [
       "['4 June 2010,', '18:45']"
      ]
     },
     "execution_count": 138,
     "metadata": {},
     "output_type": "execute_result"
    }
   ],
   "source": [
    "date_time(cells[0])"
   ]
  },
  {
   "cell_type": "code",
   "execution_count": 139,
   "id": "081f9899",
   "metadata": {},
   "outputs": [
    {
     "name": "stdout",
     "output_type": "stream",
     "text": [
      "Date: 4 June 2010\n",
      "Time: 18:45\n"
     ]
    }
   ],
   "source": [
    "# Cell 0: Date and Time\n",
    "cell0 = cells[0]\n",
    "dt = date_time(cell0)\n",
    "date = dt[0].strip(',')  # Remove trailing comma\n",
    "time = dt[1]\n",
    "print(\"Date:\", date)  # Output: '4 June 2010'\n",
    "print(\"Time:\", time)  # Output: '18:45'"
   ]
  },
  {
   "cell_type": "code",
   "execution_count": 145,
   "id": "44236548",
   "metadata": {},
   "outputs": [
    {
     "data": {
      "text/plain": [
       "<td><a href=\"/wiki/Falcon_9_v1.0\" title=\"Falcon 9 v1.0\">F9 v1.0</a><sup class=\"reference\" id=\"cite_ref-MuskMay2012_13-0\"><a href=\"#cite_note-MuskMay2012-13\"><span class=\"cite-bracket\">[</span>7<span class=\"cite-bracket\">]</span></a></sup><br/>B0003.1<sup class=\"reference\" id=\"cite_ref-block_numbers_14-0\"><a href=\"#cite_note-block_numbers-14\"><span class=\"cite-bracket\">[</span>8<span class=\"cite-bracket\">]</span></a></sup>\n",
       "</td>"
      ]
     },
     "execution_count": 145,
     "metadata": {},
     "output_type": "execute_result"
    }
   ],
   "source": [
    "cell1 = cells[1]\n",
    "cell1"
   ]
  },
  {
   "cell_type": "code",
   "execution_count": 149,
   "id": "60aeffc6",
   "metadata": {},
   "outputs": [
    {
     "name": "stdout",
     "output_type": "stream",
     "text": [
      "Version Booster: F9 v1.0\n"
     ]
    }
   ],
   "source": [
    "# Cell 1: Version Booster\n",
    "# Instead of booster_version(cell1), get text and clean manually\n",
    "cell1 = cells[1]\n",
    "bv = cell1.a.get_text().strip() if cell1.a else cell1.get_text().strip()  # Prefer <a> tag\n",
    "bv = bv.split('[')[0].split('♺')[0].strip()  # Remove [ or ♺\n",
    "print(\"Version Booster:\", bv)  # Output: 'F9 v1.0 B0003'"
   ]
  },
  {
   "cell_type": "code",
   "execution_count": 152,
   "id": "2c212079",
   "metadata": {},
   "outputs": [
    {
     "name": "stdout",
     "output_type": "stream",
     "text": [
      "Launch Site: CCAFS\n",
      "Payload: Dragon Spacecraft Qualification Unit\n"
     ]
    }
   ],
   "source": [
    "# Cell 2: Launch Site\n",
    "cell2 = cells[2]\n",
    "launch_site = cell2.a.get_text().strip() if cell2.a else cell2.get_text().strip()\n",
    "print(\"Launch Site:\", launch_site)  # Output: 'CCAFS LC-40'\n",
    "\n",
    "#Cell 3: Payload\n",
    "cell3 = cells[3]\n",
    "payload = cell3.a.get_text().strip() if cell3.a else cell3.get_text().strip()\n",
    "print(\"Payload:\", payload)  # Output: 'Dragon Spacecraft Qualification Unit'"
   ]
  },
  {
   "cell_type": "code",
   "execution_count": 194,
   "id": "0de33715",
   "metadata": {},
   "outputs": [
    {
     "name": "stdout",
     "output_type": "stream",
     "text": [
      "Payload mass: 0\n",
      "Orbit: LEO\n",
      "Customer: SpaceX\n",
      "Launch outcome: Success\n",
      "Booster landing: Failure\n"
     ]
    }
   ],
   "source": [
    "\n",
    "\n",
    "# Cell 4: Payload Mass\n",
    "# Instead of get_mass(cell4), normalize and extract up to \"kg\"\n",
    "cell4 = cells[4]\n",
    "mass = unicodedata.normalize(\"NFKD\", cell4.get_text()).strip()\n",
    "payload_mass = mass[:mass.find(\"kg\") + 2] if \"kg\" in mass else \"0\"\n",
    "print(\"Payload mass:\", payload_mass)  # Output: '0'\n",
    "\n",
    "# Cell 5: Orbit\n",
    "cell5 = cells[5]\n",
    "orbit = cell5.a.get_text().strip() if cell5.a else cell5.get_text().strip()\n",
    "print(\"Orbit:\", orbit)  # Output: 'LEO'\n",
    "\n",
    "# Cell 6: Customer\n",
    "cell6 = cells[6]\n",
    "customer = cell6.a.get_text().strip() if cell6.a else cell6.get_text().strip() or 'Unknown'\n",
    "print(\"Customer:\", customer)  # Output: 'SpaceX'\n",
    "\n",
    "# Cell 7: Launch Outcome\n",
    "cell7 = cells[7]\n",
    "launch_outcome = list(cell7.strings)[0].strip() if cell7.strings else cell7.get_text().strip()\n",
    "print(\"Launch outcome:\", launch_outcome)  # Output: 'Success'\n",
    "\n",
    "# Cell 8: Booster Landing\n",
    "# Instead of landing_status(cell8), get the first string or full text\n",
    "cell8 = cells[8]\n",
    "booster_landing = list(cell8.strings)[0].strip() if cell8.strings else cell8.get_text().strip()\n",
    "print(\"Booster landing:\", booster_landing)  # Output: 'Failure (parachute)'"
   ]
  },
  {
   "cell_type": "code",
   "execution_count": 189,
   "id": "867ec270",
   "metadata": {},
   "outputs": [
    {
     "data": {
      "text/plain": [
       "<tr>\n",
       "<th rowspan=\"2\" scope=\"row\" style=\"text-align:center;\">3\n",
       "</th>\n",
       "<td>22 May 2012,<br/>07:44<sup class=\"reference\" id=\"cite_ref-BBC_new_era_23-0\"><a href=\"#cite_note-BBC_new_era-23\"><span class=\"cite-bracket\">[</span>17<span class=\"cite-bracket\">]</span></a></sup>\n",
       "</td>\n",
       "<td><a href=\"/wiki/Falcon_9_v1.0\" title=\"Falcon 9 v1.0\">F9 v1.0</a><sup class=\"reference\" id=\"cite_ref-MuskMay2012_13-2\"><a href=\"#cite_note-MuskMay2012-13\"><span class=\"cite-bracket\">[</span>7<span class=\"cite-bracket\">]</span></a></sup><br/>B0005.1<sup class=\"reference\" id=\"cite_ref-block_numbers_14-2\"><a href=\"#cite_note-block_numbers-14\"><span class=\"cite-bracket\">[</span>8<span class=\"cite-bracket\">]</span></a></sup>\n",
       "</td>\n",
       "<td><a href=\"/wiki/Cape_Canaveral_Space_Force_Station\" title=\"Cape Canaveral Space Force Station\">CCAFS</a>,<br/><a href=\"/wiki/Cape_Canaveral_Space_Launch_Complex_40\" title=\"Cape Canaveral Space Launch Complex 40\">SLC-40</a>\n",
       "</td>\n",
       "<td><a href=\"/wiki/SpaceX_Dragon\" title=\"SpaceX Dragon\">Dragon</a> <a class=\"mw-redirect\" href=\"/wiki/Dragon_C2%2B\" title=\"Dragon C2+\">demo flight C2+</a><sup class=\"reference\" id=\"cite_ref-C2_24-0\"><a href=\"#cite_note-C2-24\"><span class=\"cite-bracket\">[</span>18<span class=\"cite-bracket\">]</span></a></sup><br/>(Dragon C102)\n",
       "</td>\n",
       "<td>525 kg (1,157 lb)<sup class=\"reference\" id=\"cite_ref-25\"><a href=\"#cite_note-25\"><span class=\"cite-bracket\">[</span>19<span class=\"cite-bracket\">]</span></a></sup>\n",
       "</td>\n",
       "<td><a href=\"/wiki/Low_Earth_orbit\" title=\"Low Earth orbit\">LEO</a> (<a href=\"/wiki/International_Space_Station\" title=\"International Space Station\">ISS</a>)\n",
       "</td>\n",
       "<td><a href=\"/wiki/NASA\" title=\"NASA\">NASA</a> (<a href=\"/wiki/Commercial_Orbital_Transportation_Services\" title=\"Commercial Orbital Transportation Services\">COTS</a>)\n",
       "</td>\n",
       "<td class=\"table-success\" style=\"background: #9EFF9E; color:black; vertical-align: middle; text-align: center;\">Success<sup class=\"reference\" id=\"cite_ref-26\"><a href=\"#cite_note-26\"><span class=\"cite-bracket\">[</span>20<span class=\"cite-bracket\">]</span></a></sup>\n",
       "</td>\n",
       "<td class=\"table-noAttempt\" style=\"background: #EEE; color:black; vertical-align: middle; white-space: nowrap; text-align: center;\">No attempt\n",
       "</td></tr>"
      ]
     },
     "execution_count": 189,
     "metadata": {},
     "output_type": "execute_result"
    }
   ],
   "source": [
    "cell5 = all_rows[5]\n",
    "cell5"
   ]
  },
  {
   "cell_type": "code",
   "execution_count": null,
   "id": "0a2fe6e8",
   "metadata": {},
   "outputs": [
    {
     "data": {
      "text/plain": [
       "'3\\n\\n22 May 2012,07:44[17]\\n\\nF9 v1.0[7]B0005.1[8]\\n\\nCCAFS,SLC-40\\n\\nDragon demo flight C2+[18](Dragon C102)\\n\\n525 '"
      ]
     },
     "execution_count": 193,
     "metadata": {},
     "output_type": "execute_result"
    }
   ],
   "source": [
    "\n",
    "mass = unicodedata.normalize(\"NFKD\", cell5.get_text()).strip()\n",
    "\n",
    "\n"
   ]
  },
  {
   "cell_type": "code",
   "execution_count": 177,
   "id": "d2859a8b",
   "metadata": {},
   "outputs": [
    {
     "name": "stdout",
     "output_type": "stream",
     "text": [
      "Payload mass: 0\n"
     ]
    }
   ],
   "source": [
    "cell4 = cells[5]\n",
    "mass = unicodedata.normalize(\"NFKD\", cell4.get_text()).strip()\n",
    "payload_mass = mass[:mass.find(\"kg\") + 2] if \"kg\" in mass else \"0\"\n",
    "print(\"Payload mass:\", payload_mass)  # Output: '0'"
   ]
  },
  {
   "cell_type": "code",
   "execution_count": null,
   "id": "773cf47d",
   "metadata": {},
   "outputs": [],
   "source": []
  }
 ],
 "metadata": {
  "kernelspec": {
   "display_name": "matinfo",
   "language": "python",
   "name": "python3"
  },
  "language_info": {
   "codemirror_mode": {
    "name": "ipython",
    "version": 3
   },
   "file_extension": ".py",
   "mimetype": "text/x-python",
   "name": "python",
   "nbconvert_exporter": "python",
   "pygments_lexer": "ipython3",
   "version": "3.12.8"
  }
 },
 "nbformat": 4,
 "nbformat_minor": 5
}
